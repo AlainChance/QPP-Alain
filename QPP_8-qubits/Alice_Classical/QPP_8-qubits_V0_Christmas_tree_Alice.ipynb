{
 "cells": [
  {
   "cell_type": "markdown",
   "id": "9686e018-c565-4377-a7be-79dc0af044a5",
   "metadata": {},
   "source": [
    "# Quantum Permutation Pad with Qiskit Runtime by Alain Chancé\n",
    "\n",
    "## MIT License\n",
    "\n",
    "Copyright (c) 2022 Alain Chancé\n",
    "\n",
    "Permission is hereby granted, free of charge, to any person obtaining a copy\n",
    "of this software and associated documentation files (the \"Software\"), to deal\n",
    "in the Software without restriction, including without limitation the rights\n",
    "to use, copy, modify, merge, publish, distribute, sublicense, and/or sell\n",
    "copies of the Software, and to permit persons to whom the Software is\n",
    "furnished to do so, subject to the following conditions:\n",
    "\n",
    "The above copyright notice and this permission notice shall be included in all\n",
    "copies or substantial portions of the Software.\n",
    "\n",
    "THE SOFTWARE IS PROVIDED \"AS IS\", WITHOUT WARRANTY OF ANY KIND, EXPRESS OR\n",
    "IMPLIED, INCLUDING BUT NOT LIMITED TO THE WARRANTIES OF MERCHANTABILITY,\n",
    "FITNESS FOR A PARTICULAR PURPOSE AND NONINFRINGEMENT. IN NO EVENT SHALL THE\n",
    "AUTHORS OR COPYRIGHT HOLDERS BE LIABLE FOR ANY CLAIM, DAMAGES OR OTHER\n",
    "LIABILITY, WHETHER IN AN ACTION OF CONTRACT, TORT OR OTHERWISE, ARISING FROM,\n",
    "OUT OF OR IN CONNECTION WITH THE SOFTWARE OR THE USE OR OTHER DEALINGS IN THE\n",
    "SOFTWARE.\n",
    "\n",
    "## Abstract\n",
    "Abstract— We demonstrate an efficient implementation of the Kuang and Barbeau’s Quantum Permutation pad (QPP) symmetric cryptographic algorithm with Qiskit Runtime, a new architecture offered by IBM Quantum that streamlines quantum computations. We have implemented a Python class QPP and template Jupyter notebooks with Qiskit code for encrypting and decrypting with n-qubit QPP any text file in UTF-16 format or any image file in .png format. We offer the option of running either a quantum circuit with $n$ qubits, or an alternate one with $2^n$ qubits which only uses swap gates and has a circuit depth of $O(n)$. It is inherently extremely fast and could be run efficiently on currently available noisy quantum computers. Our implementation leverages the new Qiskit Sampler primitive in localized mode which dramatically improves performance. We offer a highly efficient classical implementation which performs permutation gate matrix multiplication with information state vectors. We illustrate the use with two agents Alice and Bob who exchange a text file and an image file using 2-qubit QPP and 4-qubit QPP. \n",
    "\n",
    "Keywords—quantum communication, quantum encryption,\n",
    "quantum decryption, quantum security, secure communication, QPP, Qiskit, IBMQ\n",
    "\n",
    "## Credit: Kuang, R., Perepechaenko\n",
    "\n",
    "Appendix, source code for the implementation of the 2-qubits QPP of the following article:\n",
    "\n",
    "Kuang, R., Perepechaenko, M. Quantum encryption with quantum permutation pad in IBMQ systems. EPJ Quantum Technol. 9, 26 (2022). https://doi.org/10.1140/epjqt/s40507-022-00145-y \n",
    "\n",
    "## Rights and permissions\n",
    "$\\textbf{Open Access}$ This article is licensed under a Creative Commons Attribution 4.0 International License, which permits use, sharing, adaptation, distribution and reproduction in any medium or format, as long as you give appropriate credit to the original author(s) and the source, provide a link to the Creative Commons licence, and indicate if changes were made. The images or other third party material in this article are included in the article’s Creative Commons licence, unless indicated otherwise in a credit line to the material. If material is not included in the article’s Creative Commons licence and your intended use is not permitted by statutory regulation or exceeds the permitted use, you will need to obtain permission directly from the copyright holder. To view a copy of this licence, visit http://creativecommons.org/licenses/by/4.0/.\n",
    "\n",
    "# Adaptations made by Alain Chancé\n",
    "\n",
    "# Summary of updates V3\n",
    "Summary of updates V3\n",
    "This jupyter notebook has been updated to work with Qiskit 1.3.1 \n",
    "\n",
    "## Updates in Install statements\n",
    "Previously\n",
    "```\n",
    "from qiskit.primitives import Sampler\n",
    "```\n",
    "New\n",
    "```\n",
    "# from qiskit.primitives import StatevectorSampler\n",
    "```\n",
    "\n",
    "## Updates in code\n",
    "In class QPP\n",
    "\n",
    "Commented out the options:\n",
    "```\n",
    " #options = Options(resilience_level=resilience_level)\n",
    "```\n",
    "\n",
    "Previously\n",
    "```\n",
    "sampler = Sampler()\n",
    "```\n",
    "New\n",
    "```\n",
    "sampler = StatevectorSampler()\n",
    "```\n",
    " \n",
    " Updated the with Sesssion according to the example given in the Session documentation:\n",
    " https://docs.quantum.ibm.com/api/qiskit-ibm-runtime/qiskit_ibm_runtime.Session\n",
    "```\n",
    " with Session(backend=backend) as session:\n",
    "```\n",
    "\n",
    "# Summary of updates V2\n",
    "This jupyter notebook has been updated to work with Qiskit 1.0.2. \n",
    "\n",
    "Please refer to the following documentation:\n",
    "- Qiskit 1.0 feature changes, https://docs.quantum.ibm.com/api/migration-guides/qiskit-1.0-features#qiskit-10-feature-changes\n",
    "- Qiskit 1.0 migration tool, https://docs.quantum.ibm.com/api/migration-guides/qiskit-1.0-features#qiskit-10-migration-tool\n",
    "- Qiskit Aer 0.14.0.1, Getting started, https://qiskit.github.io/qiskit-aer/getting_started.html\n",
    "- Migrate setup from qiskit-ibmq-provider, https://docs.quantum.ibm.com/api/migration-guides/qiskit-runtime#migrate-setup-from-qiskit-ibmq-provider\n",
    "- Simulators, The AerSimulator, https://qiskit.github.io/qiskit-aer/tutorials/1_aersimulator.html\n",
    "\n",
    "## Updates in install statements\n",
    "### Install qiskit.aer\n",
    "New\n",
    "```\n",
    "https://qiskit.github.io/qiskit-aer/getting_started.html\n",
    "pip install qiskit_aer\n",
    "```\n",
    "## Updates in import statements\n",
    "### Import qiskit.aer\n",
    "Additional circuit methods. On import, Aer adds several simulation-specific methods to QuantumCircuit for convenience. These methods are not available until Aer is imported (import qiskit_aer). https://qiskit.github.io/qiskit-aer/apidocs/circuit.html\n",
    "New\n",
    "```\n",
    "import qiskit_aer\n",
    "```\n",
    "### Import AerSimulator\n",
    "New\n",
    "```\n",
    "from qiskit_aer import AerSimulator\n",
    "```\n",
    "### Migrate setup from qiskit-ibmq-provider\n",
    "Previously\n",
    "```\n",
    "from qiskit import IBMQ\n",
    "```\n",
    "New\n",
    "```\n",
    "from qiskit_ibm_runtime import QiskitRuntimeService\n",
    "```\n",
    "## Updates in code\n",
    "### Updates in permutation_pad() function\n",
    "New\n",
    "```\n",
    "aer_sim = AerSimulator(method='statevector')\n",
    "```\n",
    "\n",
    "Previously\n",
    "```\n",
    "for i in range(2**num_of_qubits):\n",
    "    ...\n",
    "    # Append qci to the list perm_qc\n",
    "    perm_qc.append(qci)\n",
    "\n",
    "# Submit a job with all quantum circuits in perm_qc\n",
    "job = sampler.run(circuits=perm_qc)\n",
    "result = job.result()\n",
    "...\n",
    "\n",
    "```\n",
    "New\n",
    "```\n",
    "qci = transpile(qci, aer_sim)\n",
    "job = aer_sim.run(qci, shots=1024)\n",
    "result = job.result()\n",
    "counts = result.get_counts(qci)\n",
    "                            \n",
    "if version == \"V0\":\n",
    "    # Get dictionary key with the max value\n",
    "    maxkey = max(counts, key=counts.get)\n",
    "    most_frequent = maxkey\n",
    "    pdict[i] = most_frequent\n",
    "                            \n",
    "    if trace > 1:\n",
    "        print(\"permutation_pad - k: {}, most_frequent: {}\".format(k, most_frequent))\n",
    "                            \n",
    "else:  # Version V1\n",
    "    # Get dictionary key with the max value\n",
    "    maxkey = max(counts, key=counts.get)\n",
    "    ix = n - maxkey.index('1') - 1\n",
    "    most_frequent = eval(\"format(ix, '0\" + str(num_of_qubits) + \"b')\")\n",
    "    pdict[i] = most_frequent\n",
    "    \n",
    "    if trace > 1:\n",
    "        print(\"permutation_pad - k: {}, maxkey: {}, string: {}, ix: {}, most_frequent: {}\".\n",
    "        format(k, maxkey, string, ix, most_frequent))\n",
    "```\n",
    "\n",
    "\n",
    "# Summary of updates V1\n",
    "Please refer to the following documentation:\n",
    "\n",
    "[3] Introducing new Qiskit Runtime capabilities — and how our clients are integrating them into their use, https://research.ibm.com/blog/qiskit-runtime-capabilities-integration\n",
    "\n",
    "[4] Qiskit Runtime IBM Client, https://github.com/Qiskit/qiskit-ibm-runtime\n",
    "\n",
    "[5] Qiskit IBM runtime, Configure error mitigation, Advanced resilience options, https://github.com/Qiskit/qiskit-ibm-runtime/blob/ab7486d6837652d54cb60b83cfaa9165f5d0484c/docs/how_to/error-mitigation.rst#advanced-resilience-options\n",
    "\n",
    "### New class QPP\n",
    "```\n",
    "class QPP:\n",
    "    def __init__(self, QPP_param_file = \"QPP_param.json\"):\n",
    "```\n",
    "\n",
    "### New import statements\n",
    "\n",
    "#### Import array_to_latex to display matrices using laTeX\n",
    "```\n",
    "from qiskit.visualization import array_to_latex\n",
    "```\n",
    "\n",
    "#### Import time, datetime\n",
    "```\n",
    "import time, datetime\n",
    "```\n",
    "\n",
    "#### Import psutil\n",
    "```\n",
    "import psutil\n",
    "```\n",
    "\n",
    "#### Import the JSON package\n",
    "```\n",
    "import json\n",
    "```\n",
    "\n",
    "#### Import Bitstream, BitArray https://bitstring.readthedocs.io/en/stable/\n",
    "```\n",
    "from bitstring import BitStream, BitArray\n",
    "```\n",
    "\n",
    "#### Import QiskitRuntimeService, Session, Options and Sampler\n",
    "```\n",
    "from qiskit_ibm_runtime import QiskitRuntimeService, Session, Options\n",
    "\n",
    "# Uncomment the following import to import the Qiskit Runtime Sampler\n",
    "#from qiskit_ibm_runtime import Sampler\n",
    "\n",
    "# This version uses the localized version of the `Sampler` which resides in Qiskit Terra [7][8]\n",
    "# and uses the statevector simulator to compute probabilities\n",
    "# probabilities = [\n",
    "#       Statevector(bound_circuit_to_instruction(circ)).probabilities(qargs=qargs)\n",
    "#      for circ, qargs in zip(bound_circuits, qargs_list)]\n",
    "from qiskit.primitives import Sampler\n",
    "```\n",
    "\n",
    "### New method rand_key() to create a random binary string\n",
    "```\n",
    "# Function to create a random binary string\n",
    "# https://www.geeksforgeeks.org/python-program-to-generate-random-binary-string/\n",
    "    def rand_key(self, p):\n",
    "   \n",
    "        # Variable to store the string\n",
    "        key1 = \"\"\n",
    " \n",
    "        # Loop to find the string of desired length\n",
    "        for i in range(p):\n",
    "         \n",
    "            # randint function to generate 0, 1 randomly and converting the result into str\n",
    "            temp = str(randint(0, 1))\n",
    " \n",
    "            # Concatenation the random 0, 1 to the final result\n",
    "            key1 += temp\n",
    "    \n",
    "        return(key1)\n",
    "```\n",
    "\n",
    "### New method randomize() with added new parameters key_chunks, qc, qr, num_of_perm, transpose\n",
    "```\n",
    "    ##############################################################################################################\n",
    "    # Define randomize() function to perform Fisher Yates shuffling                                              #\n",
    "    # The Fisher–Yates shuffle is an algorithm for generating a random permutation of a finite sequence [5].     #\n",
    "    ##############################################################################################################\n",
    "    def randomize(self, arr, n, key_chunks, qc, qr, num_of_perm, transpose=False):\n",
    "```\n",
    "\n",
    "### New method permutation_pad() sets up a permutation quantum circuit and transpose\n",
    "```\n",
    "    ##############################################################################################################\n",
    "    # Define permutation_pad() function                                                                          #\n",
    "    # The Fisher–Yates shuffle is an algorithm for generating a random permutation of a finite sequence [5].     #\n",
    "    ##############################################################################################################\n",
    "    def permutation_pad(self, secret_key_blocks, transpose=False):\n",
    "```\n",
    "\n",
    "### New method encrypt() to encrypt a message leverages Qiskit Runtime primitives\n",
    "```\n",
    "    ##############################################################################################################\n",
    "    # Define the function encrypt() to encrypt a message                                                         #\n",
    "    ##############################################################################################################\n",
    "    def encrypt(self, message=None):\n",
    "```\n",
    "\n",
    "### New method decrypt() to decrypt a ciphertext leverages Qiskit Runtime primitives\n",
    "```\n",
    "    ##############################################################################################################\n",
    "    # Define the function decrypt() to decrypt a message                                                         #\n",
    "    ##############################################################################################################\n",
    "     def decrypt(self, ciphertext=None):\n",
    "```\n",
    "\n",
    "### New method file_to_bitstring() to convert plaintext file into a bitstring message\n",
    "```\n",
    "    ###############################################################################################################\n",
    "    # Define function file_to_bitstring() to convert plaintext file into a bitstring message                      #\n",
    "    ###############################################################################################################\n",
    "    def file_to_bitstring(self):\n",
    "```\n",
    "\n",
    "### New method ciphertext_to_binary() to convert ciphertext into binary and save it into a binary file\n",
    "```\n",
    "    ###############################################################################################################\n",
    "    # Define function ciphertext_to_binary() to convert ciphertext into binary and save it into a binary file     #\n",
    "    ###############################################################################################################\n",
    "    def ciphertext_to_binary(self, ciphertext=None):\n",
    "```\n",
    "\n",
    "### New method bitstring_to_file() to convert a decrypted message and save it into a decrypted file\n",
    "```\n",
    "    ###############################################################################################################\n",
    "    # Define function bitstring_to_file() to convert a decrypted message and save it into a decrypted file        #\n",
    "    ###############################################################################################################\n",
    "    def bitstring_to_file(self, decrypted_message=None):\n",
    "```"
   ]
  },
  {
   "cell_type": "markdown",
   "id": "2c1160db-4d1e-4ee0-9632-89a92fc9a904",
   "metadata": {},
   "source": [
    "## Install Qiskit IBM Runtime"
   ]
  },
  {
   "cell_type": "code",
   "execution_count": 1,
   "id": "ff0c8044-98a6-49da-ad46-0a9c79ee8e0c",
   "metadata": {},
   "outputs": [
    {
     "name": "stdout",
     "output_type": "stream",
     "text": [
      "Requirement already satisfied: qiskit-ibm-runtime in /home/alain/miniconda3/lib/python3.12/site-packages (0.34.0)\n",
      "Requirement already satisfied: requests>=2.19 in /home/alain/miniconda3/lib/python3.12/site-packages (from qiskit-ibm-runtime) (2.32.3)\n",
      "Requirement already satisfied: requests-ntlm>=1.1.0 in /home/alain/miniconda3/lib/python3.12/site-packages (from qiskit-ibm-runtime) (1.3.0)\n",
      "Requirement already satisfied: numpy>=1.13 in /home/alain/miniconda3/lib/python3.12/site-packages (from qiskit-ibm-runtime) (1.26.4)\n",
      "Requirement already satisfied: urllib3>=1.21.1 in /home/alain/miniconda3/lib/python3.12/site-packages (from qiskit-ibm-runtime) (2.2.3)\n",
      "Requirement already satisfied: python-dateutil>=2.8.0 in /home/alain/miniconda3/lib/python3.12/site-packages (from qiskit-ibm-runtime) (2.9.0.post0)\n",
      "Requirement already satisfied: websocket-client>=1.5.1 in /home/alain/miniconda3/lib/python3.12/site-packages (from qiskit-ibm-runtime) (1.8.0)\n",
      "Requirement already satisfied: ibm-platform-services>=0.22.6 in /home/alain/miniconda3/lib/python3.12/site-packages (from qiskit-ibm-runtime) (0.59.0)\n",
      "Requirement already satisfied: pydantic<2.10,>=2.5.0 in /home/alain/miniconda3/lib/python3.12/site-packages (from qiskit-ibm-runtime) (2.9.2)\n",
      "Requirement already satisfied: qiskit>=1.1.0 in /home/alain/miniconda3/lib/python3.12/site-packages (from qiskit-ibm-runtime) (1.3.1)\n",
      "Requirement already satisfied: ibm-cloud-sdk-core<4.0.0,>=3.22.0 in /home/alain/miniconda3/lib/python3.12/site-packages (from ibm-platform-services>=0.22.6->qiskit-ibm-runtime) (3.22.0)\n",
      "Requirement already satisfied: annotated-types>=0.6.0 in /home/alain/miniconda3/lib/python3.12/site-packages (from pydantic<2.10,>=2.5.0->qiskit-ibm-runtime) (0.7.0)\n",
      "Requirement already satisfied: pydantic-core==2.23.4 in /home/alain/miniconda3/lib/python3.12/site-packages (from pydantic<2.10,>=2.5.0->qiskit-ibm-runtime) (2.23.4)\n",
      "Requirement already satisfied: typing-extensions>=4.6.1 in /home/alain/miniconda3/lib/python3.12/site-packages (from pydantic<2.10,>=2.5.0->qiskit-ibm-runtime) (4.12.2)\n",
      "Requirement already satisfied: six>=1.5 in /home/alain/miniconda3/lib/python3.12/site-packages (from python-dateutil>=2.8.0->qiskit-ibm-runtime) (1.17.0)\n",
      "Requirement already satisfied: rustworkx>=0.15.0 in /home/alain/miniconda3/lib/python3.12/site-packages (from qiskit>=1.1.0->qiskit-ibm-runtime) (0.15.1)\n",
      "Requirement already satisfied: scipy>=1.5 in /home/alain/miniconda3/lib/python3.12/site-packages (from qiskit>=1.1.0->qiskit-ibm-runtime) (1.14.1)\n",
      "Requirement already satisfied: sympy>=1.3 in /home/alain/miniconda3/lib/python3.12/site-packages (from qiskit>=1.1.0->qiskit-ibm-runtime) (1.13.1)\n",
      "Requirement already satisfied: dill>=0.3 in /home/alain/miniconda3/lib/python3.12/site-packages (from qiskit>=1.1.0->qiskit-ibm-runtime) (0.3.9)\n",
      "Requirement already satisfied: stevedore>=3.0.0 in /home/alain/miniconda3/lib/python3.12/site-packages (from qiskit>=1.1.0->qiskit-ibm-runtime) (5.4.0)\n",
      "Requirement already satisfied: symengine<0.14,>=0.11 in /home/alain/miniconda3/lib/python3.12/site-packages (from qiskit>=1.1.0->qiskit-ibm-runtime) (0.13.0)\n",
      "Requirement already satisfied: charset-normalizer<4,>=2 in /home/alain/miniconda3/lib/python3.12/site-packages (from requests>=2.19->qiskit-ibm-runtime) (3.3.2)\n",
      "Requirement already satisfied: idna<4,>=2.5 in /home/alain/miniconda3/lib/python3.12/site-packages (from requests>=2.19->qiskit-ibm-runtime) (3.7)\n",
      "Requirement already satisfied: certifi>=2017.4.17 in /home/alain/miniconda3/lib/python3.12/site-packages (from requests>=2.19->qiskit-ibm-runtime) (2024.8.30)\n",
      "Requirement already satisfied: cryptography>=1.3 in /home/alain/miniconda3/lib/python3.12/site-packages (from requests-ntlm>=1.1.0->qiskit-ibm-runtime) (43.0.0)\n",
      "Requirement already satisfied: pyspnego>=0.4.0 in /home/alain/miniconda3/lib/python3.12/site-packages (from requests-ntlm>=1.1.0->qiskit-ibm-runtime) (0.11.2)\n",
      "Requirement already satisfied: cffi>=1.12 in /home/alain/miniconda3/lib/python3.12/site-packages (from cryptography>=1.3->requests-ntlm>=1.1.0->qiskit-ibm-runtime) (1.17.1)\n",
      "Requirement already satisfied: PyJWT<3.0.0,>=2.8.0 in /home/alain/miniconda3/lib/python3.12/site-packages (from ibm-cloud-sdk-core<4.0.0,>=3.22.0->ibm-platform-services>=0.22.6->qiskit-ibm-runtime) (2.10.1)\n",
      "Requirement already satisfied: pbr>=2.0.0 in /home/alain/miniconda3/lib/python3.12/site-packages (from stevedore>=3.0.0->qiskit>=1.1.0->qiskit-ibm-runtime) (6.1.0)\n",
      "Requirement already satisfied: mpmath<1.4,>=1.1.0 in /home/alain/miniconda3/lib/python3.12/site-packages (from sympy>=1.3->qiskit>=1.1.0->qiskit-ibm-runtime) (1.3.0)\n",
      "Requirement already satisfied: pycparser in /home/alain/miniconda3/lib/python3.12/site-packages (from cffi>=1.12->cryptography>=1.3->requests-ntlm>=1.1.0->qiskit-ibm-runtime) (2.21)\n"
     ]
    }
   ],
   "source": [
    "# https://github.com/Qiskit/qiskit-ibm-runtime\n",
    "!pip install qiskit-ibm-runtime"
   ]
  },
  {
   "cell_type": "markdown",
   "id": "677f17a7-3c35-47d6-886d-be1482a82614",
   "metadata": {},
   "source": [
    "### Install Qiskit Aer with the following command:\n",
    "https://qiskit.github.io/qiskit-aer/getting_started.html\n",
    "\n",
    "Additional circuit methods. On import, Aer adds several simulation-specific methods to QuantumCircuit for convenience. These methods are not available until Aer is imported (import qiskit_aer)."
   ]
  },
  {
   "cell_type": "code",
   "execution_count": 2,
   "id": "e9b29602-eadd-4b7a-8540-c6d2244b136e",
   "metadata": {},
   "outputs": [
    {
     "name": "stdout",
     "output_type": "stream",
     "text": [
      "Requirement already satisfied: qiskit-aer in /home/alain/miniconda3/lib/python3.12/site-packages (0.15.1)\n",
      "Requirement already satisfied: qiskit>=1.1.0 in /home/alain/miniconda3/lib/python3.12/site-packages (from qiskit-aer) (1.3.1)\n",
      "Requirement already satisfied: numpy>=1.16.3 in /home/alain/miniconda3/lib/python3.12/site-packages (from qiskit-aer) (1.26.4)\n",
      "Requirement already satisfied: scipy>=1.0 in /home/alain/miniconda3/lib/python3.12/site-packages (from qiskit-aer) (1.14.1)\n",
      "Requirement already satisfied: psutil>=5 in /home/alain/miniconda3/lib/python3.12/site-packages (from qiskit-aer) (6.1.0)\n",
      "Requirement already satisfied: rustworkx>=0.15.0 in /home/alain/miniconda3/lib/python3.12/site-packages (from qiskit>=1.1.0->qiskit-aer) (0.15.1)\n",
      "Requirement already satisfied: sympy>=1.3 in /home/alain/miniconda3/lib/python3.12/site-packages (from qiskit>=1.1.0->qiskit-aer) (1.13.1)\n",
      "Requirement already satisfied: dill>=0.3 in /home/alain/miniconda3/lib/python3.12/site-packages (from qiskit>=1.1.0->qiskit-aer) (0.3.9)\n",
      "Requirement already satisfied: python-dateutil>=2.8.0 in /home/alain/miniconda3/lib/python3.12/site-packages (from qiskit>=1.1.0->qiskit-aer) (2.9.0.post0)\n",
      "Requirement already satisfied: stevedore>=3.0.0 in /home/alain/miniconda3/lib/python3.12/site-packages (from qiskit>=1.1.0->qiskit-aer) (5.4.0)\n",
      "Requirement already satisfied: typing-extensions in /home/alain/miniconda3/lib/python3.12/site-packages (from qiskit>=1.1.0->qiskit-aer) (4.12.2)\n",
      "Requirement already satisfied: symengine<0.14,>=0.11 in /home/alain/miniconda3/lib/python3.12/site-packages (from qiskit>=1.1.0->qiskit-aer) (0.13.0)\n",
      "Requirement already satisfied: six>=1.5 in /home/alain/miniconda3/lib/python3.12/site-packages (from python-dateutil>=2.8.0->qiskit>=1.1.0->qiskit-aer) (1.17.0)\n",
      "Requirement already satisfied: pbr>=2.0.0 in /home/alain/miniconda3/lib/python3.12/site-packages (from stevedore>=3.0.0->qiskit>=1.1.0->qiskit-aer) (6.1.0)\n",
      "Requirement already satisfied: mpmath<1.4,>=1.1.0 in /home/alain/miniconda3/lib/python3.12/site-packages (from sympy>=1.3->qiskit>=1.1.0->qiskit-aer) (1.3.0)\n",
      "Note: you may need to restart the kernel to use updated packages.\n"
     ]
    }
   ],
   "source": [
    "pip install qiskit-aer"
   ]
  },
  {
   "cell_type": "markdown",
   "id": "70ddead7-d746-4062-b29e-062d227eb2f3",
   "metadata": {},
   "source": [
    "### Install bitstring \n",
    "Bitstring is a pure Python module that makes the creation, manipulation and analysis of binary data as simple and natural as possible. https://bitstring.readthedocs.io/en/stable/"
   ]
  },
  {
   "cell_type": "code",
   "execution_count": 3,
   "id": "6a5a4426-1d84-45ef-9ee2-f107d8d80733",
   "metadata": {},
   "outputs": [
    {
     "name": "stdout",
     "output_type": "stream",
     "text": [
      "Requirement already satisfied: bitstring in /home/alain/miniconda3/lib/python3.12/site-packages (4.3.0)\n",
      "Requirement already satisfied: bitarray<3.1,>=3.0.0 in /home/alain/miniconda3/lib/python3.12/site-packages (from bitstring) (3.0.0)\n",
      "Note: you may need to restart the kernel to use updated packages.\n"
     ]
    }
   ],
   "source": [
    "pip install bitstring"
   ]
  },
  {
   "cell_type": "markdown",
   "id": "94cc1972-3de0-4498-b73d-6c21cf242461",
   "metadata": {},
   "source": [
    "## Import statements"
   ]
  },
  {
   "cell_type": "markdown",
   "id": "5a6d12e8-1b96-43c8-b28c-6bb88c58c02b",
   "metadata": {
    "id": "OxaMfQHwEOdg"
   },
   "source": [
    "### Import NumPy"
   ]
  },
  {
   "cell_type": "code",
   "execution_count": 4,
   "id": "a40885f6-02f2-4008-8be3-939b83f4bef4",
   "metadata": {
    "id": "QhaIzlQ5EN3r"
   },
   "outputs": [],
   "source": [
    "import numpy as np"
   ]
  },
  {
   "cell_type": "markdown",
   "id": "7eb75bf8-fc0c-43da-81b9-85120a87364e",
   "metadata": {},
   "source": [
    "### Import qiskit.aer\n",
    "Additional circuit methods. On import, Aer adds several simulation-specific methods to QuantumCircuit for convenience. These methods are not available until Aer is imported (import qiskit_aer). https://qiskit.github.io/qiskit-aer/apidocs/circuit.html"
   ]
  },
  {
   "cell_type": "code",
   "execution_count": 5,
   "id": "b4740f19-e9f3-403f-839b-721051c40ed7",
   "metadata": {},
   "outputs": [],
   "source": [
    "import qiskit_aer"
   ]
  },
  {
   "cell_type": "markdown",
   "id": "debc3a45-1ed3-4c35-a9ec-b76740f137f6",
   "metadata": {},
   "source": [
    "### Import AerSimulator"
   ]
  },
  {
   "cell_type": "code",
   "execution_count": 6,
   "id": "3e557a20-f7b3-4565-8b49-356f1f7ca371",
   "metadata": {},
   "outputs": [],
   "source": [
    "from qiskit_aer import AerSimulator"
   ]
  },
  {
   "cell_type": "markdown",
   "id": "23dceaa3-c244-40a3-9c30-98a1c3c753e1",
   "metadata": {},
   "source": [
    "### Import QiskitRuntimeService"
   ]
  },
  {
   "cell_type": "code",
   "execution_count": 7,
   "id": "b38dcb12-e26c-44ec-8fdf-02766512e99d",
   "metadata": {},
   "outputs": [],
   "source": [
    "from qiskit_ibm_runtime import QiskitRuntimeService, Session, Options"
   ]
  },
  {
   "cell_type": "markdown",
   "id": "e4f0a3e8-9034-4981-b1f7-481f87c94009",
   "metadata": {},
   "source": [
    "### Import the localized version of the Sampler"
   ]
  },
  {
   "cell_type": "code",
   "execution_count": 8,
   "id": "f9b612f7-acd8-47b2-88f2-4f407a250b9f",
   "metadata": {},
   "outputs": [],
   "source": [
    "from qiskit.primitives import Sampler"
   ]
  },
  {
   "cell_type": "markdown",
   "id": "69b996ca-8c55-41aa-8123-278df069d137",
   "metadata": {},
   "source": [
    "### Import the required functions and class methods"
   ]
  },
  {
   "cell_type": "code",
   "execution_count": 9,
   "id": "62640605-df59-4c04-82e8-837d906d84d7",
   "metadata": {},
   "outputs": [],
   "source": [
    "# Importing standard Qiskit libraries\n",
    "from qiskit import QuantumRegister, ClassicalRegister, QuantumCircuit, transpile\n",
    "\n",
    "from qiskit.visualization import plot_histogram, plot_bloch_vector, array_to_latex\n",
    "\n",
    "from qiskit.circuit.library import RXGate, XGate, CXGate, SwapGate\n",
    "\n",
    "import qiskit.quantum_info as qi\n",
    "from qiskit.quantum_info.operators import Operator, Pauli\n",
    "from qiskit.quantum_info import process_fidelity\n",
    "from qiskit.quantum_info import Statevector"
   ]
  },
  {
   "cell_type": "markdown",
   "id": "32e234a2-dc40-49ab-892a-5c5a45cafe93",
   "metadata": {},
   "source": [
    "### Import any other necessary libraries"
   ]
  },
  {
   "cell_type": "code",
   "execution_count": 10,
   "id": "3daa2ea0-b6f9-4f87-9e97-8c4be0f4cfa7",
   "metadata": {},
   "outputs": [],
   "source": [
    "from random import seed, randint\n",
    "import time, datetime\n",
    "import psutil\n",
    "import sys\n",
    "import os"
   ]
  },
  {
   "cell_type": "markdown",
   "id": "f5595d84-3a16-4ffa-af49-2fecd56c5d48",
   "metadata": {},
   "source": [
    "### Import the JSON package"
   ]
  },
  {
   "cell_type": "code",
   "execution_count": 11,
   "id": "8f52dd13-9137-420e-ae02-91696df500e0",
   "metadata": {},
   "outputs": [],
   "source": [
    "import json"
   ]
  },
  {
   "cell_type": "markdown",
   "id": "4e4caf17-cb55-427c-807c-5c46d7e74d9b",
   "metadata": {},
   "source": [
    "### Import Bitstream, BitArray\n",
    "https://bitstring.readthedocs.io/en/stable/"
   ]
  },
  {
   "cell_type": "code",
   "execution_count": 12,
   "id": "a5ad5560-3976-4b39-a4a2-3e0ab629c72a",
   "metadata": {},
   "outputs": [],
   "source": [
    "from bitstring import BitStream, BitArray"
   ]
  },
  {
   "cell_type": "markdown",
   "id": "30e35e48-53af-409b-8cbe-6f8eb5628d11",
   "metadata": {},
   "source": [
    "If \"from QPP_Alain import QPP\" fails and file QPP_Alain.py is in the same directory as your python or Jupyter notebook, try adding the following lines:\n",
    "```\n",
    "import sys\n",
    "import os\n",
    "cwd = os.getcwd()\n",
    "_= (sys.path.append(cwd))\n",
    "```"
   ]
  },
  {
   "cell_type": "code",
   "execution_count": 13,
   "id": "0c3f3c35",
   "metadata": {},
   "outputs": [],
   "source": [
    "from QPP_Alain import QPP"
   ]
  },
  {
   "cell_type": "markdown",
   "id": "3886dc6d",
   "metadata": {},
   "source": [
    "## Create an instance of the QPP class"
   ]
  },
  {
   "cell_type": "code",
   "execution_count": 14,
   "id": "20f5979f",
   "metadata": {},
   "outputs": [
    {
     "name": "stdout",
     "output_type": "stream",
     "text": [
      "\u001b[1mQuantum permutation Pad with Qiskit Runtime by Alain Chancé\u001b[0m\n",
      "\n",
      "\u001b[1mMIT License\u001b[0m\n",
      "Copyright (c) 2022 Alain Chancé\n",
      "Permission is hereby granted, free of charge, to any person obtaining a copy\n",
      "of this software and associated documentation files (the \"Software\"), to deal\n",
      "in the Software without restriction, including without limitation the rights\n",
      "to use, copy, modify, merge, publish, distribute, sublicense, and/or sell\n",
      "copies of the Software, and to permit persons to whom the Software is\n",
      "furnished to do so, subject to the following conditions:\n",
      "\n",
      "The above copyright notice and this permission notice shall be included in all\n",
      "copies or substantial portions of the Software.\n",
      "THE SOFTWARE IS PROVIDED \"AS IS\", WITHOUT WARRANTY OF ANY KIND, EXPRESS OR\n",
      "IMPLIED, INCLUDING BUT NOT LIMITED TO THE WARRANTIES OF MERCHANTABILITY,\n",
      "FITNESS FOR A PARTICULAR PURPOSE AND NONINFRINGEMENT. IN NO EVENT SHALL THE\n",
      "AUTHORS OR COPYRIGHT HOLDERS BE LIABLE FOR ANY CLAIM, DAMAGES OR OTHER\n",
      "LIABILITY, WHETHER IN AN ACTION OF CONTRACT, TORT OR OTHERWISE, ARISING FROM,\n",
      "OUT OF OR IN CONNECTION WITH THE SOFTWARE OR THE USE OR OTHER DEALINGS IN THE\n",
      "SOFTWARE.\n",
      "\n",
      "\u001b[1mAbstract\u001b[0m\n",
      "We demonstrate an efficient implementation of the Kuang and Barbeau’s Quantum Permutation pad (QPP) symmetric cryptographic \n",
      "algorithm with Qiskit Runtime, a new architecture offered by IBM Quantum that streamlines quantum computations. We have \n",
      "implemented a Python class QPP and template Jupyter notebooks with Qiskit code for encrypting and decrypting with n-qubit QPP \n",
      "any text file in UTF-16 format or any image file in .png format. We offer the option of running either a quantum circuit \n",
      "with n qubits, or an alternate one with 2**n qubits which only uses swap gates and has a circuit depth of O(n). \n",
      "It is inherently extremely fast and could be run efficiently on currently available noisy quantum computers. Our implementation \n",
      "leverages the new Qiskit Sampler primitive in localized mode which dramatically improves performance. We offer a highly \n",
      "efficient classical implementation which performs permutation gate matrix multiplication with information state vectors. We \n",
      "illustrate the use with two agents Alice and Bob who exchange a text file and an image file using 2-qubit QPP and 4-qubit QPP.\n",
      "\n",
      "Keywords—quantum communication, quantum encryption, quantum decryption, quantum security, secure communication, QPP, Qiskit, \n",
      "IBMQ\n",
      "\n",
      "\u001b[1mCredit\u001b[0m\n",
      "Kuang, R., Perepechaenko, Appendix, source code for the implementation of the 2-qubits QPP of the following article:\n",
      "Kuang, R., Perepechaenko, M. Quantum encryption with quantum permutation pad in IBMQ systems. EPJ Quantum Technol. 9, 26 (2022). https://doi.org/10.1140/epjqt/s40507-022-00145-y\n",
      "\n",
      "\u001b[1mRights and Permissions\u001b[0m\n",
      "\u001b[1mOpen Access\u001b[0m This article is licensed under a Creative Commons Attribution 4.0 International License.\n",
      "To view a copy of this licence, visit http://creativecommons.org/licenses/by/4.0/.\n",
      "\n",
      "\u001b[1mReferences\u001b[0m\n",
      "[1] R. Kuang and N. Bettenburg, 'Shannon perfect secrecy in a discrete Hilbert space', in Proc. IEEE Int. Conf. Quantum Comput. Eng. (QCE),Oct. 2020, pp. 249-255, doi: 10.1109/QCE49297.2020.00039\n",
      "[2] Kuang, R., Perepechaenko, M. Quantum encryption with quantum permutation pad in IBMQ systems. EPJ Quantum Technol. 9, 26 (2022). https://doi.org/10.1140/epjqt/s40507-022-00145-y\n",
      "[3] Introducing new Qiskit Runtime capabilities — and how our clients are integrating them into their use, https://research.ibm.com/blog/qiskit-runtime-capabilities-integration\n",
      "[4] Qiskit Runtime IBM Client, https://github.com/Qiskit/qiskit-ibm-runtime\n",
      "[5] Qiskit IBM runtime, Configure error mitigation, Advanced resilience options, https://github.com/Qiskit/qiskit-ibm-runtime/blob/ab7486d6837652d54cb60b83cfaa9165f5d0484c/docs/how_to/error-mitigation.rst#advanced-resilience-options\n",
      "[6] Fisher–Yates shuffle, Wikipedia, https://en.wikipedia.org/wiki/Fisher%E2%80%93Yates_shuffle\n",
      "[7] Qiskit Terra API Reference, Primitives, Sampler, https://qiskit.org/documentation/stubs/qiskit.primitives.Sampler.html\n",
      "[8] Qiskit Terra API Reference, Primitives, Source code for qiskit.primitives.sampler, https://qiskit.org/documentation/_modules/qiskit/primitives/sampler.html#Sampler\n",
      "[9] Qiskit, qiskit.quantum_info.Statevector.from_instruction, https://qiskit.org/documentation/stubs/qiskit.primitives.Sampler.html\n",
      "[10] Qiskit, Source code for qiskit.quantum_info.states.statevector, Statevector.from_instruction, https://qiskit.org/documentation/_modules/qiskit/quantum_info/states/statevector.html#Statevector.from_instruction\n",
      "\n",
      "\u001b[1mTrademarks\u001b[0m\n",
      "IBM®, IBM Q Experience®, and Qiskit® are registered trademarks of IBM Corporation.\n",
      "\n",
      "\u001b[1mUsing QPP_Alain.py\u001b[0m\n",
      "To use QPP_Alain, put QPP_Alain.py in the same directory as your code and insert the following import:\n",
      "from QPP_Alain import QPP\n",
      "\n",
      "Parameters read from file: QPP_param_8-qubits_V0_Christmas_tree.json\n",
      "{'num_of_bits': 12240, 'num_of_qubits': 8, 'num_of_perm_in_pad': 3, 'pad_selection_key_size': 6, 'opt_level': 1, 'resilience_level': 1, 'plaintext_file': 'Christmas_tree.png', 'token_file': 'Token_Alain.txt', 'trace': 1, 'job_trigger': 2000, 'print_trigger': 2000, 'draw_circuit': 'False', 'do_sampler': 'False', 'version': 'V0', 'len_message': 12758, 'len_ciphertext': 102064}\n",
      "Printing trace into file:  Trace_Christmas_tree.txt\n"
     ]
    }
   ],
   "source": [
    "Alice_QPP = QPP(\"QPP_param_8-qubits_V0_Christmas_tree\")"
   ]
  },
  {
   "cell_type": "markdown",
   "id": "84e9a465",
   "metadata": {},
   "source": [
    "## QPP encryption\n",
    "### Convert plaintext file into a bitstring message"
   ]
  },
  {
   "cell_type": "code",
   "execution_count": 15,
   "id": "ba93022a",
   "metadata": {},
   "outputs": [
    {
     "name": "stdout",
     "output_type": "stream",
     "text": [
      "\n",
      "file_to_bitstring - Length of image in bytes: 12758\n"
     ]
    }
   ],
   "source": [
    "message = Alice_QPP.file_to_bitstring()"
   ]
  },
  {
   "cell_type": "markdown",
   "id": "16bc4271",
   "metadata": {},
   "source": [
    "### Encrypt bitstring message"
   ]
  },
  {
   "cell_type": "code",
   "execution_count": 16,
   "id": "0b4e30d3",
   "metadata": {},
   "outputs": [
    {
     "name": "stdout",
     "output_type": "stream",
     "text": [
      "encrypt - Length of message in bits:  102064\n",
      "\n",
      "permutation_pad - permutation number: 0, dictionary:\n",
      "{0: '10100100', 1: '11100001', 2: '00001001', 3: '11000001', 4: '11011000', 5: '10010000', 6: '01010001', 7: '10101101', 8: '00011010', 9: '00011110', 10: '10110100', 11: '00110001', 12: '10100111', 13: '00100101', 14: '01010011', 15: '00010111', 16: '11010100', 17: '01000010', 18: '00011000', 19: '00011111', 20: '01011001', 21: '00000110', 22: '10000110', 23: '10001001', 24: '10000101', 25: '01010111', 26: '11001110', 27: '01110010', 28: '11100111', 29: '11010000', 30: '00101110', 31: '10001100', 32: '11101100', 33: '01100100', 34: '00111001', 35: '11110001', 36: '11010111', 37: '00111010', 38: '01001100', 39: '01001000', 40: '00001010', 41: '00110111', 42: '01110011', 43: '11001001', 44: '10011101', 45: '01101011', 46: '01011011', 47: '01111100', 48: '01000110', 49: '01100011', 50: '11111010', 51: '11111000', 52: '00110000', 53: '00110011', 54: '01011111', 55: '10000111', 56: '11011010', 57: '01011010', 58: '01100111', 59: '11001101', 60: '10110001', 61: '00000101', 62: '00100110', 63: '10000010', 64: '01010000', 65: '10010111', 66: '00000010', 67: '00010110', 68: '01111111', 69: '00110100', 70: '10011011', 71: '01011000', 72: '10000000', 73: '11100110', 74: '10011010', 75: '00100011', 76: '00101010', 77: '10000100', 78: '10110011', 79: '01100101', 80: '11000111', 81: '01001110', 82: '01101100', 83: '00100111', 84: '01110101', 85: '10111000', 86: '11011110', 87: '11001111', 88: '01001001', 89: '11101110', 90: '00001000', 91: '01101010', 92: '00101101', 93: '01000100', 94: '00010011', 95: '10111101', 96: '01000011', 97: '11110111', 98: '11000011', 99: '01101110', 100: '00001011', 101: '11010110', 102: '00000011', 103: '11011001', 104: '11001100', 105: '10010011', 106: '10111010', 107: '01111001', 108: '11111100', 109: '01110001', 110: '10111110', 111: '10110000', 112: '01000000', 113: '11000110', 114: '11100000', 115: '10001110', 116: '00010100', 117: '01110000', 118: '11010101', 119: '01101111', 120: '10111100', 121: '00101001', 122: '10101111', 123: '11011100', 124: '11110100', 125: '10010110', 126: '10010010', 127: '11000000', 128: '10100101', 129: '01010101', 130: '00011011', 131: '10001111', 132: '00011101', 133: '11110101', 134: '00000001', 135: '10101011', 136: '11011011', 137: '00111011', 138: '01000111', 139: '10001011', 140: '00010000', 141: '00001101', 142: '10111011', 143: '01000001', 144: '11111001', 145: '10110111', 146: '01100000', 147: '11101011', 148: '00000111', 149: '11001010', 150: '01001111', 151: '11000010', 152: '01011101', 153: '01001101', 154: '10101010', 155: '00111000', 156: '00100010', 157: '11000101', 158: '00101000', 159: '01100010', 160: '01101001', 161: '00001110', 162: '00011100', 163: '01100001', 164: '10010100', 165: '11100011', 166: '10000001', 167: '01111110', 168: '00101111', 169: '10101100', 170: '10101001', 171: '11111110', 172: '00100000', 173: '00100001', 174: '00111101', 175: '11001000', 176: '00010010', 177: '10100011', 178: '01010010', 179: '01110110', 180: '10111001', 181: '11010010', 182: '10110110', 183: '11101010', 184: '10100010', 185: '10011000', 186: '00011001', 187: '11100100', 188: '01111000', 189: '01111010', 190: '11011101', 191: '11110110', 192: '01001010', 193: '00000000', 194: '11100101', 195: '00010101', 196: '00111100', 197: '00111110', 198: '10010101', 199: '11011111', 200: '10110101', 201: '10011111', 202: '11111101', 203: '10101000', 204: '00001100', 205: '01001011', 206: '01111011', 207: '01011100', 208: '00110101', 209: '11111011', 210: '01110111', 211: '10001010', 212: '00010001', 213: '10000011', 214: '10011001', 215: '11110010', 216: '11101001', 217: '10100110', 218: '11101000', 219: '11101111', 220: '01101000', 221: '01000101', 222: '10010001', 223: '00100100', 224: '01100110', 225: '11000100', 226: '11100010', 227: '10011110', 228: '00000100', 229: '01111101', 230: '11001011', 231: '10011100', 232: '11010001', 233: '01010110', 234: '00001111', 235: '11110011', 236: '11101101', 237: '00110110', 238: '10100000', 239: '10100001', 240: '10001101', 241: '11111111', 242: '11010011', 243: '01110100', 244: '00110010', 245: '10110010', 246: '10001000', 247: '10101110', 248: '01101101', 249: '00111111', 250: '01010100', 251: '00101100', 252: '10111111', 253: '01011110', 254: '00101011', 255: '11110000'}\n",
      "permutation_pad - Elapsed time: 0:00:00.070057\n",
      "\n",
      "permutation_pad - permutation number: 1, dictionary:\n",
      "{0: '00110111', 1: '11110001', 2: '00101101', 3: '11010010', 4: '11100111', 5: '01000100', 6: '11111111', 7: '10110100', 8: '01101001', 9: '01110011', 10: '10101101', 11: '11001001', 12: '00111101', 13: '00110011', 14: '10111111', 15: '01101000', 16: '11011111', 17: '01011001', 18: '11110110', 19: '01001101', 20: '10010110', 21: '00101100', 22: '00100100', 23: '10111100', 24: '01010110', 25: '00101011', 26: '10101000', 27: '10110001', 28: '10110000', 29: '00000000', 30: '10001011', 31: '10101001', 32: '01101101', 33: '01101011', 34: '10010011', 35: '00101010', 36: '00000100', 37: '10011000', 38: '01001100', 39: '01100000', 40: '00100010', 41: '11010101', 42: '01111000', 43: '01001000', 44: '00011010', 45: '00010011', 46: '01100111', 47: '11110000', 48: '01001001', 49: '00001110', 50: '10110111', 51: '11000011', 52: '11000000', 53: '11100010', 54: '10100000', 55: '10011111', 56: '11100100', 57: '00111000', 58: '01101111', 59: '01111100', 60: '10101110', 61: '01100101', 62: '10100110', 63: '10101111', 64: '01100001', 65: '11011110', 66: '01100011', 67: '00101111', 68: '11000100', 69: '01010001', 70: '00011001', 71: '11010111', 72: '11001000', 73: '00110100', 74: '11111000', 75: '00110000', 76: '00000101', 77: '00100110', 78: '10110101', 79: '00011111', 80: '10010001', 81: '01011110', 82: '10000110', 83: '11011001', 84: '00000001', 85: '10100011', 86: '00000111', 87: '00111001', 88: '11111110', 89: '11010110', 90: '01111010', 91: '00110101', 92: '01000010', 93: '01101110', 94: '11100110', 95: '01111101', 96: '01010101', 97: '10100001', 98: '00001001', 99: '01011111', 100: '01000000', 101: '01101100', 102: '00001101', 103: '00101110', 104: '10100010', 105: '00011110', 106: '11000010', 107: '11010001', 108: '00101000', 109: '01011010', 110: '10001010', 111: '10111001', 112: '10011101', 113: '10011100', 114: '10111000', 115: '10100100', 116: '01100010', 117: '01001110', 118: '00100011', 119: '01010011', 120: '00110001', 121: '10101011', 122: '01010000', 123: '00100000', 124: '11111001', 125: '10100101', 126: '10000010', 127: '01111011', 128: '01010111', 129: '11001100', 130: '00110010', 131: '10011001', 132: '10001110', 133: '01110010', 134: '01111111', 135: '01010100', 136: '00011101', 137: '00010000', 138: '01001010', 139: '10101010', 140: '00111011', 141: '01011101', 142: '10001000', 143: '01000011', 144: '00001011', 145: '00111100', 146: '01111001', 147: '10111011', 148: '00100101', 149: '10100111', 150: '10001101', 151: '00000010', 152: '00010001', 153: '11010011', 154: '11101111', 155: '10000001', 156: '11101010', 157: '11111011', 158: '01011000', 159: '11101110', 160: '10111010', 161: '10000000', 162: '00000011', 163: '00111010', 164: '10010100', 165: '00100111', 166: '00001000', 167: '10000100', 168: '01001111', 169: '11101000', 170: '10001111', 171: '00010010', 172: '01011100', 173: '01100100', 174: '00011000', 175: '01110000', 176: '11110111', 177: '10010010', 178: '11000111', 179: '01110111', 180: '00100001', 181: '11001011', 182: '10111101', 183: '11110100', 184: '11111010', 185: '11011011', 186: '00010110', 187: '01100110', 188: '11011000', 189: '11100000', 190: '11101011', 191: '01011011', 192: '10110010', 193: '00011100', 194: '11001111', 195: '00010111', 196: '00011011', 197: '00001100', 198: '00010101', 199: '11100011', 200: '10010111', 201: '11110101', 202: '11011100', 203: '11110010', 204: '01000101', 205: '11101101', 206: '01110101', 207: '01010010', 208: '00001111', 209: '11011010', 210: '01110001', 211: '01110100', 212: '10101100', 213: '01111110', 214: '11001101', 215: '11101001', 216: '00000110', 217: '10011010', 218: '10000111', 219: '11011101', 220: '01110110', 221: '11100001', 222: '00111110', 223: '10001001', 224: '11111100', 225: '11010000', 226: '01000110', 227: '10000011', 228: '00111111', 229: '10000101', 230: '11001110', 231: '10110110', 232: '01101010', 233: '00010100', 234: '11000001', 235: '01001011', 236: '10110011', 237: '10010000', 238: '00101001', 239: '10011110', 240: '01000111', 241: '11111101', 242: '10011011', 243: '11001010', 244: '00001010', 245: '11000101', 246: '11010100', 247: '10111110', 248: '10001100', 249: '11101100', 250: '11000110', 251: '10010101', 252: '11110011', 253: '11100101', 254: '01000001', 255: '00110110'}\n",
      "permutation_pad - Elapsed time: 0:00:00.135166\n",
      "\n",
      "permutation_pad - permutation number: 2, dictionary:\n",
      "{0: '00000000', 1: '10010011', 2: '00101001', 3: '01000010', 4: '11110110', 5: '10001001', 6: '00000001', 7: '00110100', 8: '10011011', 9: '00010100', 10: '01110011', 11: '10001100', 12: '00100011', 13: '11110101', 14: '01001011', 15: '11001001', 16: '00011110', 17: '01010010', 18: '00000010', 19: '11110100', 20: '00010011', 21: '00001100', 22: '00100000', 23: '10100010', 24: '11101010', 25: '10001011', 26: '11010000', 27: '10110001', 28: '01111101', 29: '00111011', 30: '10101100', 31: '11001010', 32: '00111100', 33: '10101010', 34: '01101001', 35: '00111000', 36: '00111110', 37: '00000100', 38: '00011111', 39: '01111000', 40: '11011101', 41: '01000000', 42: '00101000', 43: '11000111', 44: '00010101', 45: '01111001', 46: '11100100', 47: '01101010', 48: '01100101', 49: '11010011', 50: '10101101', 51: '01000100', 52: '10110110', 53: '11011010', 54: '11110001', 55: '01011011', 56: '11101101', 57: '01101100', 58: '10110000', 59: '01110110', 60: '11101011', 61: '10010010', 62: '01101110', 63: '01001010', 64: '01111111', 65: '10000100', 66: '11001111', 67: '10011100', 68: '11000000', 69: '10111110', 70: '11000001', 71: '10111100', 72: '01000110', 73: '11100110', 74: '01010111', 75: '10100011', 76: '10111010', 77: '00010111', 78: '01100001', 79: '00000011', 80: '00111001', 81: '10011010', 82: '11101111', 83: '01010001', 84: '01101101', 85: '00100101', 86: '10011110', 87: '00011011', 88: '00001000', 89: '00001110', 90: '01110010', 91: '10100110', 92: '10110011', 93: '10010001', 94: '01011000', 95: '01111010', 96: '00110001', 97: '00010000', 98: '10101000', 99: '11011000', 100: '01011111', 101: '00101011', 102: '00110111', 103: '11101110', 104: '11100011', 105: '10000000', 106: '01101111', 107: '11111000', 108: '01000101', 109: '11001011', 110: '00100110', 111: '10100001', 112: '11001101', 113: '00100001', 114: '00001001', 115: '10010100', 116: '11010010', 117: '00011000', 118: '01000001', 119: '00000110', 120: '00011001', 121: '10000001', 122: '11100101', 123: '01110000', 124: '11011100', 125: '01001000', 126: '10000011', 127: '10010000', 128: '10001000', 129: '10001101', 130: '00110110', 131: '01100000', 132: '10100000', 133: '10100111', 134: '01000111', 135: '00101110', 136: '01010011', 137: '11000011', 138: '00100010', 139: '10111001', 140: '01001001', 141: '01100110', 142: '10110100', 143: '11010100', 144: '00010001', 145: '10110010', 146: '10001010', 147: '00110101', 148: '10010101', 149: '11110000', 150: '11000110', 151: '01110100', 152: '01001100', 153: '00111101', 154: '10000111', 155: '11010101', 156: '01111110', 157: '00001011', 158: '10001111', 159: '01010110', 160: '11111100', 161: '11100001', 162: '00110011', 163: '01100111', 164: '11110111', 165: '11110010', 166: '01101000', 167: '01010100', 168: '01011110', 169: '11111111', 170: '10000010', 171: '01110001', 172: '01100011', 173: '00001111', 174: '01100010', 175: '11010111', 176: '00100100', 177: '11100010', 178: '00101111', 179: '11000100', 180: '00111111', 181: '11001110', 182: '11001000', 183: '10000110', 184: '01001110', 185: '10001110', 186: '10000101', 187: '01011101', 188: '11111101', 189: '10100101', 190: '11000010', 191: '00011101', 192: '10010111', 193: '11101001', 194: '01100100', 195: '00101101', 196: '00001101', 197: '11110011', 198: '10011101', 199: '11111110', 200: '00000101', 201: '11111001', 202: '10101110', 203: '01011001', 204: '10101011', 205: '10111111', 206: '10101111', 207: '00010110', 208: '01010000', 209: '10011111', 210: '01010101', 211: '10010110', 212: '00001010', 213: '11010110', 214: '01000011', 215: '00010010', 216: '10110111', 217: '11101000', 218: '00100111', 219: '10111011', 220: '11011111', 221: '11100000', 222: '11101100', 223: '10111000', 224: '11011110', 225: '10100100', 226: '00110000', 227: '11111010', 228: '01001101', 229: '01111100', 230: '01110101', 231: '10111101', 232: '01011100', 233: '01110111', 234: '00101100', 235: '01111011', 236: '01101011', 237: '00111010', 238: '10011001', 239: '10101001', 240: '11000101', 241: '11011001', 242: '00011100', 243: '11100111', 244: '00101010', 245: '10011000', 246: '00110010', 247: '11010001', 248: '11011011', 249: '11111011', 250: '00011010', 251: '10110101', 252: '01011010', 253: '01001111', 254: '11001100', 255: '00000111'}\n",
      "permutation_pad - Elapsed time: 0:00:00.187637\n",
      "permutation pad - Length of Permutation_Pad: 3\n",
      "\n",
      "encrypt - x : 1999,  Permutation_Pad[2], State vector: 11001111, Most frequent: 00010110\n",
      "encrypt - Elapsed time: 0:00:00.000544\n",
      "encrypt - x : 3999,  Permutation_Pad[2], State vector: 01000010, Most frequent: 11001111\n",
      "encrypt - Elapsed time: 0:00:00.001046\n",
      "encrypt - x : 5999,  Permutation_Pad[0], State vector: 10001000, Most frequent: 11011011\n",
      "encrypt - Elapsed time: 0:00:00.001439\n",
      "encrypt - x : 7999,  Permutation_Pad[1], State vector: 00000000, Most frequent: 00110111\n",
      "encrypt - Elapsed time: 0:00:00.001820\n",
      "encrypt - x : 9999,  Permutation_Pad[0], State vector: 00111111, Most frequent: 10000010\n",
      "encrypt - Elapsed time: 0:00:00.002201\n",
      "encrypt - x : 11999,  Permutation_Pad[1], State vector: 11100001, Most frequent: 11010000\n",
      "encrypt - Elapsed time: 0:00:00.002581\n",
      "\n",
      "encrypt - Elapsed time for encryption of message: 0:00:00.002730\n",
      "\n",
      "encrypt - First 192 bits in ciphertext string\n",
      "101001110010010111010111000000010110101000001111011111110010011011010000100010110010000111000111100001110111000110000111101111101010110001100011101010000101111010000000110010111010000001011101\n"
     ]
    }
   ],
   "source": [
    "ciphertext = Alice_QPP.encrypt(message=message)"
   ]
  },
  {
   "cell_type": "markdown",
   "id": "8863d19a",
   "metadata": {},
   "source": [
    "### Convert the ciphertext into bytes and save it into a binary file"
   ]
  },
  {
   "cell_type": "code",
   "execution_count": 17,
   "id": "f2799ccb",
   "metadata": {},
   "outputs": [],
   "source": [
    "Alice_QPP.ciphertext_to_binary(ciphertext=ciphertext)"
   ]
  },
  {
   "cell_type": "markdown",
   "id": "82d7f51a-cb63-4e74-a00e-16fc7bf85097",
   "metadata": {},
   "source": [
    "## Ciphertext is transmitted"
   ]
  },
  {
   "cell_type": "markdown",
   "id": "7e07caf6-525d-4106-ace1-ca145c7b40c1",
   "metadata": {},
   "source": [
    "## References\n",
    "\n",
    "[1] Kuang, Randy. Quantum Permutation Pad for Quantum Secure Symmetric and Asymmetric Cryptography. Vol. 2, no. 1, Academia Quantum, 2025. https://doi.org/10.20935/AcadQuant7457 \n",
    "\n",
    "[2] Chancé, A. (2024). Quantum Permutation Pad with Qiskit Runtime. In: Femmam, S., Lorenz, P. (eds) Recent Advances in Communication Networks and Embedded Systems. ICCNT 2022. Lecture Notes on Data Engineering and Communications Technologies, vol 205. Springer, Cham. https://doi.org/10.1007/978-3-031-59619-3_12 \n",
    "\n",
    "[3] R. Kuang and N. Bettenburg, 'Shannon perfect secrecy in a discrete Hilbert space', in Proc. IEEE Int. Conf. Quantum Comput. Eng. (QCE), Oct. 2020, pp. 249-255, doi: 10.1109/QCE49297.2020.00039\n",
    "\n",
    "[4] Kuang, R., Perepechaenko, M. Quantum encryption with quantum permutation pad in IBMQ systems. EPJ Quantum Technol. 9, 26 (2022). https://doi.org/10.1140/epjqt/s40507-022-00145-y\n",
    "\n",
    "[5] Qiskit Runtime overview, IBM Quantum, https://cloud.ibm.com/docs/quantum-computing?topic=quantum-computing-overview, https://cloud.ibm.com/docs/quantum-computing?topic=quantum-computing-overview\n",
    "\n",
    "[6] QiskitRuntimeService, https://docs.quantum.ibm.com/api/qiskit-ibm-runtime/qiskit_ibm_runtime.QiskitRuntimeService#qiskitruntimeservice"
   ]
  },
  {
   "cell_type": "markdown",
   "id": "9797bbe7-acf9-4a4e-ba7c-20757ab54264",
   "metadata": {},
   "source": [
    "## Print Qiskit version"
   ]
  },
  {
   "cell_type": "code",
   "execution_count": 18,
   "id": "fe52a54f-8d5f-4e9e-8cc3-b6034db74d1c",
   "metadata": {},
   "outputs": [],
   "source": [
    "import qiskit"
   ]
  },
  {
   "cell_type": "code",
   "execution_count": 19,
   "id": "81bdbb18-aa36-479a-978f-c3c225c7c93f",
   "metadata": {},
   "outputs": [
    {
     "name": "stdout",
     "output_type": "stream",
     "text": [
      "1.3.1\n"
     ]
    }
   ],
   "source": [
    "print(qiskit.__version__)"
   ]
  }
 ],
 "metadata": {
  "kernelspec": {
   "display_name": "Python 3 (ipykernel)",
   "language": "python",
   "name": "python3"
  },
  "language_info": {
   "codemirror_mode": {
    "name": "ipython",
    "version": 3
   },
   "file_extension": ".py",
   "mimetype": "text/x-python",
   "name": "python",
   "nbconvert_exporter": "python",
   "pygments_lexer": "ipython3",
   "version": "3.12.8"
  },
  "widgets": {
   "application/vnd.jupyter.widget-state+json": {
    "state": {
     "01231487ec414b24bd761f6dd76fc016": {
      "model_module": "@jupyter-widgets/base",
      "model_module_version": "1.2.0",
      "model_name": "LayoutModel",
      "state": {
       "width": "190px"
      }
     },
     "15a8688e002d43adbccd012eefd05e51": {
      "model_module": "@jupyter-widgets/controls",
      "model_module_version": "1.5.0",
      "model_name": "HTMLModel",
      "state": {
       "layout": "IPY_MODEL_eb974c9225c14c1d901d2381b81c0952",
       "style": "IPY_MODEL_b6762439874e41c38b2ac1b21790f0db",
       "value": "<h5>Message</h5>"
      }
     },
     "1c7de92203e740098ca0f00e488e47e9": {
      "model_module": "@jupyter-widgets/controls",
      "model_module_version": "1.5.0",
      "model_name": "HBoxModel",
      "state": {
       "children": [
        "IPY_MODEL_cb71e659e00a40cfba214efd500083fb",
        "IPY_MODEL_799b064975484c5690a72ede0fa8855e",
        "IPY_MODEL_84f13d6437654954a9e7751d95f0d276",
        "IPY_MODEL_a960fc42b4534aa3a35f635e30a1e288",
        "IPY_MODEL_15a8688e002d43adbccd012eefd05e51"
       ],
       "layout": "IPY_MODEL_882736f26bea4b7d9836e2ea7ececf83"
      }
     },
     "42b7643650d24814affdaa618a02aeb0": {
      "model_module": "@jupyter-widgets/controls",
      "model_module_version": "1.5.0",
      "model_name": "ButtonModel",
      "state": {
       "button_style": "primary",
       "description": "Clear",
       "layout": "IPY_MODEL_fbfa86e960e04a5f95619e18a23739dc",
       "style": "IPY_MODEL_746716bf92ac4c418d498bb56ca229be"
      }
     },
     "485bd1112c364e63b7a55bd8c386eb0c": {
      "model_module": "@jupyter-widgets/controls",
      "model_module_version": "1.5.0",
      "model_name": "GridBoxModel",
      "state": {
       "children": [
        "IPY_MODEL_42b7643650d24814affdaa618a02aeb0"
       ],
       "layout": "IPY_MODEL_de58e34a7edc401e87342f04d1d3065f"
      }
     },
     "746716bf92ac4c418d498bb56ca229be": {
      "model_module": "@jupyter-widgets/controls",
      "model_module_version": "1.5.0",
      "model_name": "ButtonStyleModel",
      "state": {}
     },
     "74b6f2dd988347b7a07221fb5353df09": {
      "model_module": "@jupyter-widgets/controls",
      "model_module_version": "1.5.0",
      "model_name": "DescriptionStyleModel",
      "state": {
       "description_width": ""
      }
     },
     "790a1a267c374532a2360b67ba400279": {
      "model_module": "@jupyter-widgets/base",
      "model_module_version": "1.2.0",
      "model_name": "LayoutModel",
      "state": {
       "width": "95px"
      }
     },
     "799b064975484c5690a72ede0fa8855e": {
      "model_module": "@jupyter-widgets/controls",
      "model_module_version": "1.5.0",
      "model_name": "HTMLModel",
      "state": {
       "layout": "IPY_MODEL_ee251e5ed3934cf9a093286fee4af98b",
       "style": "IPY_MODEL_74b6f2dd988347b7a07221fb5353df09",
       "value": "<h5>Backend</h5>"
      }
     },
     "84f13d6437654954a9e7751d95f0d276": {
      "model_module": "@jupyter-widgets/controls",
      "model_module_version": "1.5.0",
      "model_name": "HTMLModel",
      "state": {
       "layout": "IPY_MODEL_790a1a267c374532a2360b67ba400279",
       "style": "IPY_MODEL_cc7fbd6e616b48ba8670a24863e2d88f",
       "value": "<h5>Status</h5>"
      }
     },
     "882736f26bea4b7d9836e2ea7ececf83": {
      "model_module": "@jupyter-widgets/base",
      "model_module_version": "1.2.0",
      "model_name": "LayoutModel",
      "state": {
       "margin": "0px 0px 0px 37px",
       "width": "600px"
      }
     },
     "a2d56da859ad4bf4a827041ae905da73": {
      "model_module": "@jupyter-widgets/controls",
      "model_module_version": "1.5.0",
      "model_name": "DescriptionStyleModel",
      "state": {
       "description_width": ""
      }
     },
     "a960fc42b4534aa3a35f635e30a1e288": {
      "model_module": "@jupyter-widgets/controls",
      "model_module_version": "1.5.0",
      "model_name": "HTMLModel",
      "state": {
       "layout": "IPY_MODEL_f59d35bcdf46447997dd4fd8809c0d4d",
       "style": "IPY_MODEL_e237896267074e489426d2aedb7f348b",
       "value": "<h5>Queue</h5>"
      }
     },
     "b6762439874e41c38b2ac1b21790f0db": {
      "model_module": "@jupyter-widgets/controls",
      "model_module_version": "1.5.0",
      "model_name": "DescriptionStyleModel",
      "state": {
       "description_width": ""
      }
     },
     "b7345e1a00e3440b87008eb08ea836c7": {
      "model_module": "@jupyter-widgets/controls",
      "model_module_version": "1.5.0",
      "model_name": "DescriptionStyleModel",
      "state": {
       "description_width": ""
      }
     },
     "cb71e659e00a40cfba214efd500083fb": {
      "model_module": "@jupyter-widgets/controls",
      "model_module_version": "1.5.0",
      "model_name": "HTMLModel",
      "state": {
       "layout": "IPY_MODEL_01231487ec414b24bd761f6dd76fc016",
       "style": "IPY_MODEL_a2d56da859ad4bf4a827041ae905da73",
       "value": "<h5>Job ID</h5>"
      }
     },
     "cc7fbd6e616b48ba8670a24863e2d88f": {
      "model_module": "@jupyter-widgets/controls",
      "model_module_version": "1.5.0",
      "model_name": "DescriptionStyleModel",
      "state": {
       "description_width": ""
      }
     },
     "de58e34a7edc401e87342f04d1d3065f": {
      "model_module": "@jupyter-widgets/base",
      "model_module_version": "1.2.0",
      "model_name": "LayoutModel",
      "state": {
       "grid_template_areas": "\n                                       \". . . . right \"\n                                        ",
       "grid_template_columns": "20% 20% 20% 20% 20%",
       "width": "100%"
      }
     },
     "e237896267074e489426d2aedb7f348b": {
      "model_module": "@jupyter-widgets/controls",
      "model_module_version": "1.5.0",
      "model_name": "DescriptionStyleModel",
      "state": {
       "description_width": ""
      }
     },
     "e56746ba29da4cb98f6a534584c6d556": {
      "model_module": "@jupyter-widgets/controls",
      "model_module_version": "1.5.0",
      "model_name": "HTMLModel",
      "state": {
       "layout": "IPY_MODEL_fe8260cf883a46beb0a8a98b5504fdd9",
       "style": "IPY_MODEL_b7345e1a00e3440b87008eb08ea836c7",
       "value": "<p style='font-family: IBM Plex Sans, Arial, Helvetica, sans-serif; font-size: 20px; font-weight: medium;'>Circuit Properties</p>"
      }
     },
     "eb974c9225c14c1d901d2381b81c0952": {
      "model_module": "@jupyter-widgets/base",
      "model_module_version": "1.2.0",
      "model_name": "LayoutModel",
      "state": {}
     },
     "ee251e5ed3934cf9a093286fee4af98b": {
      "model_module": "@jupyter-widgets/base",
      "model_module_version": "1.2.0",
      "model_name": "LayoutModel",
      "state": {
       "width": "145px"
      }
     },
     "f59d35bcdf46447997dd4fd8809c0d4d": {
      "model_module": "@jupyter-widgets/base",
      "model_module_version": "1.2.0",
      "model_name": "LayoutModel",
      "state": {
       "width": "70px"
      }
     },
     "fbfa86e960e04a5f95619e18a23739dc": {
      "model_module": "@jupyter-widgets/base",
      "model_module_version": "1.2.0",
      "model_name": "LayoutModel",
      "state": {
       "grid_area": "right",
       "padding": "0px 0px 0px 0px",
       "width": "70px"
      }
     },
     "fe8260cf883a46beb0a8a98b5504fdd9": {
      "model_module": "@jupyter-widgets/base",
      "model_module_version": "1.2.0",
      "model_name": "LayoutModel",
      "state": {
       "margin": "0px 0px 10px 0px"
      }
     }
    },
    "version_major": 2,
    "version_minor": 0
   }
  }
 },
 "nbformat": 4,
 "nbformat_minor": 5
}
