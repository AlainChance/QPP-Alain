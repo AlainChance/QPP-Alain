{
 "cells": [
  {
   "cell_type": "markdown",
   "id": "6ce07445-eb34-4473-bc76-492325644e76",
   "metadata": {},
   "source": [
    "# Quantum Permutation Pad with Qiskit Runtime by Alain Chancé\n",
    "\n",
    "## MIT License\n",
    "\n",
    "Copyright (c) 2022 Alain Chancé\n",
    "\n",
    "Permission is hereby granted, free of charge, to any person obtaining a copy\n",
    "of this software and associated documentation files (the \"Software\"), to deal\n",
    "in the Software without restriction, including without limitation the rights\n",
    "to use, copy, modify, merge, publish, distribute, sublicense, and/or sell\n",
    "copies of the Software, and to permit persons to whom the Software is\n",
    "furnished to do so, subject to the following conditions:\n",
    "\n",
    "The above copyright notice and this permission notice shall be included in all\n",
    "copies or substantial portions of the Software.\n",
    "\n",
    "THE SOFTWARE IS PROVIDED \"AS IS\", WITHOUT WARRANTY OF ANY KIND, EXPRESS OR\n",
    "IMPLIED, INCLUDING BUT NOT LIMITED TO THE WARRANTIES OF MERCHANTABILITY,\n",
    "FITNESS FOR A PARTICULAR PURPOSE AND NONINFRINGEMENT. IN NO EVENT SHALL THE\n",
    "AUTHORS OR COPYRIGHT HOLDERS BE LIABLE FOR ANY CLAIM, DAMAGES OR OTHER\n",
    "LIABILITY, WHETHER IN AN ACTION OF CONTRACT, TORT OR OTHERWISE, ARISING FROM,\n",
    "OUT OF OR IN CONNECTION WITH THE SOFTWARE OR THE USE OR OTHER DEALINGS IN THE\n",
    "SOFTWARE.\n",
    "\n",
    "## Abstract\n",
    "Abstract— We demonstrate an efficient implementation of the Kuang and Barbeau’s Quantum Permutation pad (QPP) symmetric cryptographic algorithm with Qiskit Runtime, a new architecture offered by IBM Quantum that streamlines quantum computations. We have implemented a Python class QPP and template Jupyter notebooks with Qiskit code for encrypting and decrypting with n-qubit QPP any text file in UTF-16 format or any image file in .png format. We offer the option of running either a quantum circuit with $n$ qubits, or an alternate one with $2^n$ qubits which only uses swap gates and has a circuit depth of $O(n)$. It is inherently extremely fast and could be run efficiently on currently available noisy quantum computers. Our implementation leverages the new Qiskit Sampler primitive in localized mode which dramatically improves performance. We offer a highly efficient classical implementation which performs permutation gate matrix multiplication with information state vectors. We illustrate the use with two agents Alice and Bob who exchange a text file and an image file using 2-qubit QPP and 4-qubit QPP. \n",
    "\n",
    "Keywords—quantum communication, quantum encryption,\n",
    "quantum decryption, quantum security, secure communication, QPP, Qiskit, IBMQ\n",
    "\n",
    "## Credit: Kuang, R., Perepechaenko\n",
    "\n",
    "Appendix, source code for the implementation of the 2-qubits QPP of the following article:\n",
    "\n",
    "Kuang, R., Perepechaenko, M. Quantum encryption with quantum permutation pad in IBMQ systems. EPJ Quantum Technol. 9, 26 (2022). https://doi.org/10.1140/epjqt/s40507-022-00145-y \n",
    "\n",
    "## Rights and permissions\n",
    "$\\textbf{Open Access}$ This article is licensed under a Creative Commons Attribution 4.0 International License, which permits use, sharing, adaptation, distribution and reproduction in any medium or format, as long as you give appropriate credit to the original author(s) and the source, provide a link to the Creative Commons licence, and indicate if changes were made. The images or other third party material in this article are included in the article’s Creative Commons licence, unless indicated otherwise in a credit line to the material. If material is not included in the article’s Creative Commons licence and your intended use is not permitted by statutory regulation or exceeds the permitted use, you will need to obtain permission directly from the copyright holder. To view a copy of this licence, visit http://creativecommons.org/licenses/by/4.0/.\n",
    "\n",
    "# Adaptations made by Alain Chancé\n",
    "\n",
    "# Summary of updates V3\n",
    "Summary of updates V3\n",
    "This jupyter notebook has been updated to work with Qiskit 1.3.1 \n",
    "\n",
    "## Updates in Install statements\n",
    "Previously\n",
    "```\n",
    "from qiskit.primitives import Sampler\n",
    "```\n",
    "New\n",
    "```\n",
    "# from qiskit.primitives import StatevectorSampler\n",
    "```\n",
    "\n",
    "## Updates in code\n",
    "In class QPP\n",
    "\n",
    "Commented out the options:\n",
    "```\n",
    " #options = Options(resilience_level=resilience_level)\n",
    "```\n",
    "\n",
    "Previously\n",
    "```\n",
    "sampler = Sampler()\n",
    "```\n",
    "New\n",
    "```\n",
    "sampler = StatevectorSampler()\n",
    "```\n",
    " \n",
    " Updated the with Sesssion according to the example given in the Session documentation:\n",
    " https://docs.quantum.ibm.com/api/qiskit-ibm-runtime/qiskit_ibm_runtime.Session\n",
    "```\n",
    " with Session(backend=backend) as session:\n",
    "```\n",
    "\n",
    "# Summary of updates V2\n",
    "This jupyter notebook has been updated to work with Qiskit 1.0.2. \n",
    "\n",
    "Please refer to the following documentation:\n",
    "- Qiskit 1.0 feature changes, https://docs.quantum.ibm.com/api/migration-guides/qiskit-1.0-features#qiskit-10-feature-changes\n",
    "- Qiskit 1.0 migration tool, https://docs.quantum.ibm.com/api/migration-guides/qiskit-1.0-features#qiskit-10-migration-tool\n",
    "- Qiskit Aer 0.14.0.1, Getting started, https://qiskit.github.io/qiskit-aer/getting_started.html\n",
    "- Migrate setup from qiskit-ibmq-provider, https://docs.quantum.ibm.com/api/migration-guides/qiskit-runtime#migrate-setup-from-qiskit-ibmq-provider\n",
    "- Simulators, The AerSimulator, https://qiskit.github.io/qiskit-aer/tutorials/1_aersimulator.html\n",
    "\n",
    "## Updates in install statements\n",
    "### Install qiskit.aer\n",
    "New\n",
    "```\n",
    "https://qiskit.github.io/qiskit-aer/getting_started.html\n",
    "pip install qiskit_aer\n",
    "```\n",
    "## Updates in import statements\n",
    "### Import qiskit.aer\n",
    "Additional circuit methods. On import, Aer adds several simulation-specific methods to QuantumCircuit for convenience. These methods are not available until Aer is imported (import qiskit_aer). https://qiskit.github.io/qiskit-aer/apidocs/circuit.html\n",
    "New\n",
    "```\n",
    "import qiskit_aer\n",
    "```\n",
    "### Import AerSimulator\n",
    "New\n",
    "```\n",
    "from qiskit_aer import AerSimulator\n",
    "```\n",
    "### Migrate setup from qiskit-ibmq-provider\n",
    "Previously\n",
    "```\n",
    "from qiskit import IBMQ\n",
    "```\n",
    "New\n",
    "```\n",
    "from qiskit_ibm_runtime import QiskitRuntimeService\n",
    "```\n",
    "## Updates in code\n",
    "### Updates in permutation_pad() function\n",
    "New\n",
    "```\n",
    "aer_sim = AerSimulator(method='statevector')\n",
    "```\n",
    "\n",
    "Previously\n",
    "```\n",
    "for i in range(2**num_of_qubits):\n",
    "    ...\n",
    "    # Append qci to the list perm_qc\n",
    "    perm_qc.append(qci)\n",
    "\n",
    "# Submit a job with all quantum circuits in perm_qc\n",
    "job = sampler.run(circuits=perm_qc)\n",
    "result = job.result()\n",
    "...\n",
    "\n",
    "```\n",
    "New\n",
    "```\n",
    "qci = transpile(qci, aer_sim)\n",
    "job = aer_sim.run(qci, shots=1024)\n",
    "result = job.result()\n",
    "counts = result.get_counts(qci)\n",
    "                            \n",
    "if version == \"V0\":\n",
    "    # Get dictionary key with the max value\n",
    "    maxkey = max(counts, key=counts.get)\n",
    "    most_frequent = maxkey\n",
    "    pdict[i] = most_frequent\n",
    "                            \n",
    "    if trace > 1:\n",
    "        print(\"permutation_pad - k: {}, most_frequent: {}\".format(k, most_frequent))\n",
    "                            \n",
    "else:  # Version V1\n",
    "    # Get dictionary key with the max value\n",
    "    maxkey = max(counts, key=counts.get)\n",
    "    ix = n - maxkey.index('1') - 1\n",
    "    most_frequent = eval(\"format(ix, '0\" + str(num_of_qubits) + \"b')\")\n",
    "    pdict[i] = most_frequent\n",
    "    \n",
    "    if trace > 1:\n",
    "        print(\"permutation_pad - k: {}, maxkey: {}, string: {}, ix: {}, most_frequent: {}\".\n",
    "        format(k, maxkey, string, ix, most_frequent))\n",
    "```\n",
    "\n",
    "\n",
    "# Summary of updates V1\n",
    "Please refer to the following documentation:\n",
    "\n",
    "[3] Introducing new Qiskit Runtime capabilities — and how our clients are integrating them into their use, https://research.ibm.com/blog/qiskit-runtime-capabilities-integration\n",
    "\n",
    "[4] Qiskit Runtime IBM Client, https://github.com/Qiskit/qiskit-ibm-runtime\n",
    "\n",
    "[5] Qiskit IBM runtime, Configure error mitigation, Advanced resilience options, https://github.com/Qiskit/qiskit-ibm-runtime/blob/ab7486d6837652d54cb60b83cfaa9165f5d0484c/docs/how_to/error-mitigation.rst#advanced-resilience-options\n",
    "\n",
    "### New class QPP\n",
    "```\n",
    "class QPP:\n",
    "    def __init__(self, QPP_param_file = \"QPP_param.json\"):\n",
    "```\n",
    "\n",
    "### New import statements\n",
    "\n",
    "#### Import array_to_latex to display matrices using laTeX\n",
    "```\n",
    "from qiskit.visualization import array_to_latex\n",
    "```\n",
    "\n",
    "#### Import time, datetime\n",
    "```\n",
    "import time, datetime\n",
    "```\n",
    "\n",
    "#### Import psutil\n",
    "```\n",
    "import psutil\n",
    "```\n",
    "\n",
    "#### Import the JSON package\n",
    "```\n",
    "import json\n",
    "```\n",
    "\n",
    "#### Import Bitstream, BitArray https://bitstring.readthedocs.io/en/stable/\n",
    "```\n",
    "from bitstring import BitStream, BitArray\n",
    "```\n",
    "\n",
    "#### Import QiskitRuntimeService, Session, Options and Sampler\n",
    "```\n",
    "from qiskit_ibm_runtime import QiskitRuntimeService, Session, Options\n",
    "\n",
    "# Uncomment the following import to import the Qiskit Runtime Sampler\n",
    "#from qiskit_ibm_runtime import Sampler\n",
    "\n",
    "# This version uses the localized version of the `Sampler` which resides in Qiskit Terra [7][8]\n",
    "# and uses the statevector simulator to compute probabilities\n",
    "# probabilities = [\n",
    "#       Statevector(bound_circuit_to_instruction(circ)).probabilities(qargs=qargs)\n",
    "#      for circ, qargs in zip(bound_circuits, qargs_list)]\n",
    "from qiskit.primitives import Sampler\n",
    "```\n",
    "\n",
    "### New method rand_key() to create a random binary string\n",
    "```\n",
    "# Function to create a random binary string\n",
    "# https://www.geeksforgeeks.org/python-program-to-generate-random-binary-string/\n",
    "    def rand_key(self, p):\n",
    "   \n",
    "        # Variable to store the string\n",
    "        key1 = \"\"\n",
    " \n",
    "        # Loop to find the string of desired length\n",
    "        for i in range(p):\n",
    "         \n",
    "            # randint function to generate 0, 1 randomly and converting the result into str\n",
    "            temp = str(randint(0, 1))\n",
    " \n",
    "            # Concatenation the random 0, 1 to the final result\n",
    "            key1 += temp\n",
    "    \n",
    "        return(key1)\n",
    "```\n",
    "\n",
    "### New method randomize() with added new parameters key_chunks, qc, qr, num_of_perm, transpose\n",
    "```\n",
    "    ##############################################################################################################\n",
    "    # Define randomize() function to perform Fisher Yates shuffling                                              #\n",
    "    # The Fisher–Yates shuffle is an algorithm for generating a random permutation of a finite sequence [5].     #\n",
    "    ##############################################################################################################\n",
    "    def randomize(self, arr, n, key_chunks, qc, qr, num_of_perm, transpose=False):\n",
    "```\n",
    "\n",
    "### New method permutation_pad() sets up a permutation quantum circuit and transpose\n",
    "```\n",
    "    ##############################################################################################################\n",
    "    # Define permutation_pad() function                                                                          #\n",
    "    # The Fisher–Yates shuffle is an algorithm for generating a random permutation of a finite sequence [5].     #\n",
    "    ##############################################################################################################\n",
    "    def permutation_pad(self, secret_key_blocks, transpose=False):\n",
    "```\n",
    "\n",
    "### New method encrypt() to encrypt a message leverages Qiskit Runtime primitives\n",
    "```\n",
    "    ##############################################################################################################\n",
    "    # Define the function encrypt() to encrypt a message                                                         #\n",
    "    ##############################################################################################################\n",
    "    def encrypt(self, message=None):\n",
    "```\n",
    "\n",
    "### New method decrypt() to decrypt a ciphertext leverages Qiskit Runtime primitives\n",
    "```\n",
    "    ##############################################################################################################\n",
    "    # Define the function decrypt() to decrypt a message                                                         #\n",
    "    ##############################################################################################################\n",
    "     def decrypt(self, ciphertext=None):\n",
    "```\n",
    "\n",
    "### New method file_to_bitstring() to convert plaintext file into a bitstring message\n",
    "```\n",
    "    ###############################################################################################################\n",
    "    # Define function file_to_bitstring() to convert plaintext file into a bitstring message                      #\n",
    "    ###############################################################################################################\n",
    "    def file_to_bitstring(self):\n",
    "```\n",
    "\n",
    "### New method ciphertext_to_binary() to convert ciphertext into binary and save it into a binary file\n",
    "```\n",
    "    ###############################################################################################################\n",
    "    # Define function ciphertext_to_binary() to convert ciphertext into binary and save it into a binary file     #\n",
    "    ###############################################################################################################\n",
    "    def ciphertext_to_binary(self, ciphertext=None):\n",
    "```\n",
    "\n",
    "### New method bitstring_to_file() to convert a decrypted message and save it into a decrypted file\n",
    "```\n",
    "    ###############################################################################################################\n",
    "    # Define function bitstring_to_file() to convert a decrypted message and save it into a decrypted file        #\n",
    "    ###############################################################################################################\n",
    "    def bitstring_to_file(self, decrypted_message=None):\n",
    "```"
   ]
  },
  {
   "cell_type": "markdown",
   "id": "18a2a6f0-849a-4a74-ad2b-90fac25d4ba0",
   "metadata": {},
   "source": [
    "## Install Qiskit IBM Runtime"
   ]
  },
  {
   "cell_type": "code",
   "execution_count": 1,
   "id": "aa96b52b-f7b0-4c48-90f0-db84b07026ea",
   "metadata": {},
   "outputs": [
    {
     "name": "stdout",
     "output_type": "stream",
     "text": [
      "Requirement already satisfied: qiskit-ibm-runtime in /home/alain/miniconda3/lib/python3.12/site-packages (0.34.0)\n",
      "Requirement already satisfied: requests>=2.19 in /home/alain/miniconda3/lib/python3.12/site-packages (from qiskit-ibm-runtime) (2.32.3)\n",
      "Requirement already satisfied: requests-ntlm>=1.1.0 in /home/alain/miniconda3/lib/python3.12/site-packages (from qiskit-ibm-runtime) (1.3.0)\n",
      "Requirement already satisfied: numpy>=1.13 in /home/alain/miniconda3/lib/python3.12/site-packages (from qiskit-ibm-runtime) (1.26.4)\n",
      "Requirement already satisfied: urllib3>=1.21.1 in /home/alain/miniconda3/lib/python3.12/site-packages (from qiskit-ibm-runtime) (2.2.3)\n",
      "Requirement already satisfied: python-dateutil>=2.8.0 in /home/alain/miniconda3/lib/python3.12/site-packages (from qiskit-ibm-runtime) (2.9.0.post0)\n",
      "Requirement already satisfied: websocket-client>=1.5.1 in /home/alain/miniconda3/lib/python3.12/site-packages (from qiskit-ibm-runtime) (1.8.0)\n",
      "Requirement already satisfied: ibm-platform-services>=0.22.6 in /home/alain/miniconda3/lib/python3.12/site-packages (from qiskit-ibm-runtime) (0.59.0)\n",
      "Requirement already satisfied: pydantic<2.10,>=2.5.0 in /home/alain/miniconda3/lib/python3.12/site-packages (from qiskit-ibm-runtime) (2.9.2)\n",
      "Requirement already satisfied: qiskit>=1.1.0 in /home/alain/miniconda3/lib/python3.12/site-packages (from qiskit-ibm-runtime) (1.3.1)\n",
      "Requirement already satisfied: ibm-cloud-sdk-core<4.0.0,>=3.22.0 in /home/alain/miniconda3/lib/python3.12/site-packages (from ibm-platform-services>=0.22.6->qiskit-ibm-runtime) (3.22.0)\n",
      "Requirement already satisfied: annotated-types>=0.6.0 in /home/alain/miniconda3/lib/python3.12/site-packages (from pydantic<2.10,>=2.5.0->qiskit-ibm-runtime) (0.7.0)\n",
      "Requirement already satisfied: pydantic-core==2.23.4 in /home/alain/miniconda3/lib/python3.12/site-packages (from pydantic<2.10,>=2.5.0->qiskit-ibm-runtime) (2.23.4)\n",
      "Requirement already satisfied: typing-extensions>=4.6.1 in /home/alain/miniconda3/lib/python3.12/site-packages (from pydantic<2.10,>=2.5.0->qiskit-ibm-runtime) (4.12.2)\n",
      "Requirement already satisfied: six>=1.5 in /home/alain/miniconda3/lib/python3.12/site-packages (from python-dateutil>=2.8.0->qiskit-ibm-runtime) (1.17.0)\n",
      "Requirement already satisfied: rustworkx>=0.15.0 in /home/alain/miniconda3/lib/python3.12/site-packages (from qiskit>=1.1.0->qiskit-ibm-runtime) (0.15.1)\n",
      "Requirement already satisfied: scipy>=1.5 in /home/alain/miniconda3/lib/python3.12/site-packages (from qiskit>=1.1.0->qiskit-ibm-runtime) (1.14.1)\n",
      "Requirement already satisfied: sympy>=1.3 in /home/alain/miniconda3/lib/python3.12/site-packages (from qiskit>=1.1.0->qiskit-ibm-runtime) (1.13.1)\n",
      "Requirement already satisfied: dill>=0.3 in /home/alain/miniconda3/lib/python3.12/site-packages (from qiskit>=1.1.0->qiskit-ibm-runtime) (0.3.9)\n",
      "Requirement already satisfied: stevedore>=3.0.0 in /home/alain/miniconda3/lib/python3.12/site-packages (from qiskit>=1.1.0->qiskit-ibm-runtime) (5.4.0)\n",
      "Requirement already satisfied: symengine<0.14,>=0.11 in /home/alain/miniconda3/lib/python3.12/site-packages (from qiskit>=1.1.0->qiskit-ibm-runtime) (0.13.0)\n",
      "Requirement already satisfied: charset-normalizer<4,>=2 in /home/alain/miniconda3/lib/python3.12/site-packages (from requests>=2.19->qiskit-ibm-runtime) (3.3.2)\n",
      "Requirement already satisfied: idna<4,>=2.5 in /home/alain/miniconda3/lib/python3.12/site-packages (from requests>=2.19->qiskit-ibm-runtime) (3.7)\n",
      "Requirement already satisfied: certifi>=2017.4.17 in /home/alain/miniconda3/lib/python3.12/site-packages (from requests>=2.19->qiskit-ibm-runtime) (2024.8.30)\n",
      "Requirement already satisfied: cryptography>=1.3 in /home/alain/miniconda3/lib/python3.12/site-packages (from requests-ntlm>=1.1.0->qiskit-ibm-runtime) (43.0.0)\n",
      "Requirement already satisfied: pyspnego>=0.4.0 in /home/alain/miniconda3/lib/python3.12/site-packages (from requests-ntlm>=1.1.0->qiskit-ibm-runtime) (0.11.2)\n",
      "Requirement already satisfied: cffi>=1.12 in /home/alain/miniconda3/lib/python3.12/site-packages (from cryptography>=1.3->requests-ntlm>=1.1.0->qiskit-ibm-runtime) (1.17.1)\n",
      "Requirement already satisfied: PyJWT<3.0.0,>=2.8.0 in /home/alain/miniconda3/lib/python3.12/site-packages (from ibm-cloud-sdk-core<4.0.0,>=3.22.0->ibm-platform-services>=0.22.6->qiskit-ibm-runtime) (2.10.1)\n",
      "Requirement already satisfied: pbr>=2.0.0 in /home/alain/miniconda3/lib/python3.12/site-packages (from stevedore>=3.0.0->qiskit>=1.1.0->qiskit-ibm-runtime) (6.1.0)\n",
      "Requirement already satisfied: mpmath<1.4,>=1.1.0 in /home/alain/miniconda3/lib/python3.12/site-packages (from sympy>=1.3->qiskit>=1.1.0->qiskit-ibm-runtime) (1.3.0)\n",
      "Requirement already satisfied: pycparser in /home/alain/miniconda3/lib/python3.12/site-packages (from cffi>=1.12->cryptography>=1.3->requests-ntlm>=1.1.0->qiskit-ibm-runtime) (2.21)\n"
     ]
    }
   ],
   "source": [
    "# https://github.com/Qiskit/qiskit-ibm-runtime\n",
    "!pip install qiskit-ibm-runtime"
   ]
  },
  {
   "cell_type": "markdown",
   "id": "48dda8c9-12bf-440d-ba71-8b266b2fb009",
   "metadata": {},
   "source": [
    "### Install Qiskit Aer with the following command:\n",
    "https://qiskit.github.io/qiskit-aer/getting_started.html\n",
    "\n",
    "Additional circuit methods. On import, Aer adds several simulation-specific methods to QuantumCircuit for convenience. These methods are not available until Aer is imported (import qiskit_aer)."
   ]
  },
  {
   "cell_type": "code",
   "execution_count": 2,
   "id": "d74d1ba7-249e-478c-a79b-4a5e1e2108c9",
   "metadata": {},
   "outputs": [
    {
     "name": "stdout",
     "output_type": "stream",
     "text": [
      "Requirement already satisfied: qiskit-aer in /home/alain/miniconda3/lib/python3.12/site-packages (0.15.1)\n",
      "Requirement already satisfied: qiskit>=1.1.0 in /home/alain/miniconda3/lib/python3.12/site-packages (from qiskit-aer) (1.3.1)\n",
      "Requirement already satisfied: numpy>=1.16.3 in /home/alain/miniconda3/lib/python3.12/site-packages (from qiskit-aer) (1.26.4)\n",
      "Requirement already satisfied: scipy>=1.0 in /home/alain/miniconda3/lib/python3.12/site-packages (from qiskit-aer) (1.14.1)\n",
      "Requirement already satisfied: psutil>=5 in /home/alain/miniconda3/lib/python3.12/site-packages (from qiskit-aer) (6.1.0)\n",
      "Requirement already satisfied: rustworkx>=0.15.0 in /home/alain/miniconda3/lib/python3.12/site-packages (from qiskit>=1.1.0->qiskit-aer) (0.15.1)\n",
      "Requirement already satisfied: sympy>=1.3 in /home/alain/miniconda3/lib/python3.12/site-packages (from qiskit>=1.1.0->qiskit-aer) (1.13.1)\n",
      "Requirement already satisfied: dill>=0.3 in /home/alain/miniconda3/lib/python3.12/site-packages (from qiskit>=1.1.0->qiskit-aer) (0.3.9)\n",
      "Requirement already satisfied: python-dateutil>=2.8.0 in /home/alain/miniconda3/lib/python3.12/site-packages (from qiskit>=1.1.0->qiskit-aer) (2.9.0.post0)\n",
      "Requirement already satisfied: stevedore>=3.0.0 in /home/alain/miniconda3/lib/python3.12/site-packages (from qiskit>=1.1.0->qiskit-aer) (5.4.0)\n",
      "Requirement already satisfied: typing-extensions in /home/alain/miniconda3/lib/python3.12/site-packages (from qiskit>=1.1.0->qiskit-aer) (4.12.2)\n",
      "Requirement already satisfied: symengine<0.14,>=0.11 in /home/alain/miniconda3/lib/python3.12/site-packages (from qiskit>=1.1.0->qiskit-aer) (0.13.0)\n",
      "Requirement already satisfied: six>=1.5 in /home/alain/miniconda3/lib/python3.12/site-packages (from python-dateutil>=2.8.0->qiskit>=1.1.0->qiskit-aer) (1.17.0)\n",
      "Requirement already satisfied: pbr>=2.0.0 in /home/alain/miniconda3/lib/python3.12/site-packages (from stevedore>=3.0.0->qiskit>=1.1.0->qiskit-aer) (6.1.0)\n",
      "Requirement already satisfied: mpmath<1.4,>=1.1.0 in /home/alain/miniconda3/lib/python3.12/site-packages (from sympy>=1.3->qiskit>=1.1.0->qiskit-aer) (1.3.0)\n",
      "Note: you may need to restart the kernel to use updated packages.\n"
     ]
    }
   ],
   "source": [
    "pip install qiskit-aer"
   ]
  },
  {
   "cell_type": "markdown",
   "id": "a7574adb-2e00-4c89-9ebd-dd8a5003e29b",
   "metadata": {},
   "source": [
    "### Install bitstring \n",
    "Bitstring is a pure Python module that makes the creation, manipulation and analysis of binary data as simple and natural as possible. https://bitstring.readthedocs.io/en/stable/"
   ]
  },
  {
   "cell_type": "code",
   "execution_count": 3,
   "id": "25247087-6a86-4145-9a71-e33b2bfff8b5",
   "metadata": {},
   "outputs": [
    {
     "name": "stdout",
     "output_type": "stream",
     "text": [
      "Requirement already satisfied: bitstring in /home/alain/miniconda3/lib/python3.12/site-packages (4.3.0)\n",
      "Requirement already satisfied: bitarray<3.1,>=3.0.0 in /home/alain/miniconda3/lib/python3.12/site-packages (from bitstring) (3.0.0)\n",
      "Note: you may need to restart the kernel to use updated packages.\n"
     ]
    }
   ],
   "source": [
    "pip install bitstring"
   ]
  },
  {
   "cell_type": "markdown",
   "id": "71a6e2b8-eaee-4ec0-80b7-6b79d85ada79",
   "metadata": {},
   "source": [
    "## Import statements"
   ]
  },
  {
   "cell_type": "markdown",
   "id": "ba04d282-bb76-47e3-89d4-dc237a18ed90",
   "metadata": {
    "id": "OxaMfQHwEOdg"
   },
   "source": [
    "### Import NumPy"
   ]
  },
  {
   "cell_type": "code",
   "execution_count": 4,
   "id": "594ab3a6-a5d7-4ce4-8eb5-29fb721b8273",
   "metadata": {
    "id": "QhaIzlQ5EN3r"
   },
   "outputs": [],
   "source": [
    "import numpy as np"
   ]
  },
  {
   "cell_type": "markdown",
   "id": "f1ecbaa8-35e9-400b-86eb-23d4e0aa8a76",
   "metadata": {},
   "source": [
    "### Import qiskit.aer\n",
    "Additional circuit methods. On import, Aer adds several simulation-specific methods to QuantumCircuit for convenience. These methods are not available until Aer is imported (import qiskit_aer). https://qiskit.github.io/qiskit-aer/apidocs/circuit.html"
   ]
  },
  {
   "cell_type": "code",
   "execution_count": 5,
   "id": "88c9112f-b2d0-4a20-98aa-2954d077a35c",
   "metadata": {},
   "outputs": [],
   "source": [
    "import qiskit_aer"
   ]
  },
  {
   "cell_type": "markdown",
   "id": "68406c49-381e-4181-9651-663a6ec6fc7c",
   "metadata": {},
   "source": [
    "### Import AerSimulator"
   ]
  },
  {
   "cell_type": "code",
   "execution_count": 6,
   "id": "1dacb645-f09e-4887-b8a5-1e39e97fe421",
   "metadata": {},
   "outputs": [],
   "source": [
    "from qiskit_aer import AerSimulator"
   ]
  },
  {
   "cell_type": "markdown",
   "id": "f3ae4897-9e79-46e9-9c7b-67270ec356e8",
   "metadata": {},
   "source": [
    "### Import QiskitRuntimeService"
   ]
  },
  {
   "cell_type": "code",
   "execution_count": 7,
   "id": "1b439b2c-822a-4896-8ed4-b1a09708e5a8",
   "metadata": {},
   "outputs": [],
   "source": [
    "from qiskit_ibm_runtime import QiskitRuntimeService, Session, Options"
   ]
  },
  {
   "cell_type": "markdown",
   "id": "96431201-8cb6-4951-b22f-41376bb69e00",
   "metadata": {},
   "source": [
    "### Import the localized version of the Sampler"
   ]
  },
  {
   "cell_type": "code",
   "execution_count": 8,
   "id": "bed123f6-3b7b-4b97-9499-07529a71def8",
   "metadata": {},
   "outputs": [],
   "source": [
    "from qiskit.primitives import Sampler"
   ]
  },
  {
   "cell_type": "markdown",
   "id": "ed267736-6d16-48af-8e2a-ba24a38f8815",
   "metadata": {},
   "source": [
    "### Import the required functions and class methods"
   ]
  },
  {
   "cell_type": "code",
   "execution_count": 9,
   "id": "ad622999-b677-4b13-b117-6d3bbc7ed24e",
   "metadata": {},
   "outputs": [],
   "source": [
    "# Importing standard Qiskit libraries\n",
    "from qiskit import QuantumRegister, ClassicalRegister, QuantumCircuit, transpile\n",
    "\n",
    "from qiskit.visualization import plot_histogram, plot_bloch_vector, array_to_latex\n",
    "\n",
    "from qiskit.circuit.library import RXGate, XGate, CXGate, SwapGate\n",
    "\n",
    "import qiskit.quantum_info as qi\n",
    "from qiskit.quantum_info.operators import Operator, Pauli\n",
    "from qiskit.quantum_info import process_fidelity\n",
    "from qiskit.quantum_info import Statevector"
   ]
  },
  {
   "cell_type": "markdown",
   "id": "c2e0a9ee-3fe0-4ac8-bd6c-376c4375aadd",
   "metadata": {},
   "source": [
    "### Import any other necessary libraries"
   ]
  },
  {
   "cell_type": "code",
   "execution_count": 10,
   "id": "ee9a2ff1-bc7c-4756-b281-309f639eab6d",
   "metadata": {},
   "outputs": [],
   "source": [
    "from random import seed, randint\n",
    "import time, datetime\n",
    "import psutil\n",
    "import sys\n",
    "import os"
   ]
  },
  {
   "cell_type": "markdown",
   "id": "e3b3dc5f-83a7-4314-836e-4c6b5e165d1e",
   "metadata": {},
   "source": [
    "### Import the JSON package"
   ]
  },
  {
   "cell_type": "code",
   "execution_count": 11,
   "id": "ee3c6fc4-d50f-4a12-b3da-07daf77e7d54",
   "metadata": {},
   "outputs": [],
   "source": [
    "import json"
   ]
  },
  {
   "cell_type": "markdown",
   "id": "3784df54-af69-46c8-978b-24d49802d65e",
   "metadata": {},
   "source": [
    "### Import Bitstream, BitArray\n",
    "https://bitstring.readthedocs.io/en/stable/"
   ]
  },
  {
   "cell_type": "code",
   "execution_count": 12,
   "id": "97ea2d0b-daad-416d-b93b-ff1c4714ca7e",
   "metadata": {},
   "outputs": [],
   "source": [
    "from bitstring import BitStream, BitArray"
   ]
  },
  {
   "cell_type": "markdown",
   "id": "d728eb79-7c4b-4647-aad6-e14e00d818dc",
   "metadata": {},
   "source": [
    "If \"from QPP_Alain import QPP\" fails and file QPP_Alain.py is in the same directory as your python or Jupyter notebook, try adding the following lines:\n",
    "```\n",
    "import sys\n",
    "import os\n",
    "cwd = os.getcwd()\n",
    "_= (sys.path.append(cwd))\n",
    "```"
   ]
  },
  {
   "cell_type": "code",
   "execution_count": 13,
   "id": "0c3f3c35",
   "metadata": {},
   "outputs": [],
   "source": [
    "from QPP_Alain import QPP"
   ]
  },
  {
   "cell_type": "markdown",
   "id": "3886dc6d",
   "metadata": {},
   "source": [
    "## Create an instance of the QPP class"
   ]
  },
  {
   "cell_type": "code",
   "execution_count": 14,
   "id": "20f5979f",
   "metadata": {},
   "outputs": [
    {
     "name": "stdout",
     "output_type": "stream",
     "text": [
      "\u001b[1mQuantum permutation Pad with Qiskit Runtime by Alain Chancé\u001b[0m\n",
      "\n",
      "\u001b[1mMIT License\u001b[0m\n",
      "Copyright (c) 2022 Alain Chancé\n",
      "Permission is hereby granted, free of charge, to any person obtaining a copy\n",
      "of this software and associated documentation files (the \"Software\"), to deal\n",
      "in the Software without restriction, including without limitation the rights\n",
      "to use, copy, modify, merge, publish, distribute, sublicense, and/or sell\n",
      "copies of the Software, and to permit persons to whom the Software is\n",
      "furnished to do so, subject to the following conditions:\n",
      "\n",
      "The above copyright notice and this permission notice shall be included in all\n",
      "copies or substantial portions of the Software.\n",
      "THE SOFTWARE IS PROVIDED \"AS IS\", WITHOUT WARRANTY OF ANY KIND, EXPRESS OR\n",
      "IMPLIED, INCLUDING BUT NOT LIMITED TO THE WARRANTIES OF MERCHANTABILITY,\n",
      "FITNESS FOR A PARTICULAR PURPOSE AND NONINFRINGEMENT. IN NO EVENT SHALL THE\n",
      "AUTHORS OR COPYRIGHT HOLDERS BE LIABLE FOR ANY CLAIM, DAMAGES OR OTHER\n",
      "LIABILITY, WHETHER IN AN ACTION OF CONTRACT, TORT OR OTHERWISE, ARISING FROM,\n",
      "OUT OF OR IN CONNECTION WITH THE SOFTWARE OR THE USE OR OTHER DEALINGS IN THE\n",
      "SOFTWARE.\n",
      "\n",
      "\u001b[1mAbstract\u001b[0m\n",
      "We demonstrate an efficient implementation of the Kuang and Barbeau’s Quantum Permutation pad (QPP) symmetric cryptographic \n",
      "algorithm with Qiskit Runtime, a new architecture offered by IBM Quantum that streamlines quantum computations. We have \n",
      "implemented a Python class QPP and template Jupyter notebooks with Qiskit code for encrypting and decrypting with n-qubit QPP \n",
      "any text file in UTF-16 format or any image file in .png format. We offer the option of running either a quantum circuit \n",
      "with n qubits, or an alternate one with 2**n qubits which only uses swap gates and has a circuit depth of O(n). \n",
      "It is inherently extremely fast and could be run efficiently on currently available noisy quantum computers. Our implementation \n",
      "leverages the new Qiskit Sampler primitive in localized mode which dramatically improves performance. We offer a highly \n",
      "efficient classical implementation which performs permutation gate matrix multiplication with information state vectors. We \n",
      "illustrate the use with two agents Alice and Bob who exchange a text file and an image file using 2-qubit QPP and 4-qubit QPP.\n",
      "\n",
      "Keywords—quantum communication, quantum encryption, quantum decryption, quantum security, secure communication, QPP, Qiskit, \n",
      "IBMQ\n",
      "\n",
      "\u001b[1mCredit\u001b[0m\n",
      "Kuang, R., Perepechaenko, Appendix, source code for the implementation of the 2-qubits QPP of the following article:\n",
      "Kuang, R., Perepechaenko, M. Quantum encryption with quantum permutation pad in IBMQ systems. EPJ Quantum Technol. 9, 26 (2022). https://doi.org/10.1140/epjqt/s40507-022-00145-y\n",
      "\n",
      "\u001b[1mRights and Permissions\u001b[0m\n",
      "\u001b[1mOpen Access\u001b[0m This article is licensed under a Creative Commons Attribution 4.0 International License.\n",
      "To view a copy of this licence, visit http://creativecommons.org/licenses/by/4.0/.\n",
      "\n",
      "\u001b[1mReferences\u001b[0m\n",
      "[1] R. Kuang and N. Bettenburg, 'Shannon perfect secrecy in a discrete Hilbert space', in Proc. IEEE Int. Conf. Quantum Comput. Eng. (QCE),Oct. 2020, pp. 249-255, doi: 10.1109/QCE49297.2020.00039\n",
      "[2] Kuang, R., Perepechaenko, M. Quantum encryption with quantum permutation pad in IBMQ systems. EPJ Quantum Technol. 9, 26 (2022). https://doi.org/10.1140/epjqt/s40507-022-00145-y\n",
      "[3] Introducing new Qiskit Runtime capabilities — and how our clients are integrating them into their use, https://research.ibm.com/blog/qiskit-runtime-capabilities-integration\n",
      "[4] Qiskit Runtime IBM Client, https://github.com/Qiskit/qiskit-ibm-runtime\n",
      "[5] Qiskit IBM runtime, Configure error mitigation, Advanced resilience options, https://github.com/Qiskit/qiskit-ibm-runtime/blob/ab7486d6837652d54cb60b83cfaa9165f5d0484c/docs/how_to/error-mitigation.rst#advanced-resilience-options\n",
      "[6] Fisher–Yates shuffle, Wikipedia, https://en.wikipedia.org/wiki/Fisher%E2%80%93Yates_shuffle\n",
      "[7] Qiskit Terra API Reference, Primitives, Sampler, https://qiskit.org/documentation/stubs/qiskit.primitives.Sampler.html\n",
      "[8] Qiskit Terra API Reference, Primitives, Source code for qiskit.primitives.sampler, https://qiskit.org/documentation/_modules/qiskit/primitives/sampler.html#Sampler\n",
      "[9] Qiskit, qiskit.quantum_info.Statevector.from_instruction, https://qiskit.org/documentation/stubs/qiskit.primitives.Sampler.html\n",
      "[10] Qiskit, Source code for qiskit.quantum_info.states.statevector, Statevector.from_instruction, https://qiskit.org/documentation/_modules/qiskit/quantum_info/states/statevector.html#Statevector.from_instruction\n",
      "\n",
      "\u001b[1mTrademarks\u001b[0m\n",
      "IBM®, IBM Q Experience®, and Qiskit® are registered trademarks of IBM Corporation.\n",
      "\n",
      "\u001b[1mUsing QPP_Alain.py\u001b[0m\n",
      "To use QPP_Alain, put QPP_Alain.py in the same directory as your code and insert the following import:\n",
      "from QPP_Alain import QPP\n",
      "\n",
      "Parameters read from file: QPP_param_8-qubits_V0_Christmas_tree.json\n",
      "{'num_of_bits': 12240, 'num_of_qubits': 8, 'num_of_perm_in_pad': 3, 'pad_selection_key_size': 6, 'opt_level': 1, 'resilience_level': 1, 'plaintext_file': 'Christmas_tree.png', 'token_file': 'Token_Alain.txt', 'trace': 1, 'job_trigger': 2000, 'print_trigger': 2000, 'draw_circuit': 'False', 'do_sampler': 'True', 'version': 'V0', 'len_message': 12758, 'len_ciphertext': 102064}\n",
      "Printing trace into file:  Trace_Christmas_tree.txt\n",
      "Token read from file:  Token_Alain.txt\n"
     ]
    }
   ],
   "source": [
    "Bob_QPP = QPP(\"QPP_param_8-qubits_V0_Christmas_tree\")"
   ]
  },
  {
   "cell_type": "markdown",
   "id": "45195e20-8a91-4776-8523-6e4583a43ac9",
   "metadata": {},
   "source": [
    "## QPP decryption"
   ]
  },
  {
   "cell_type": "markdown",
   "id": "19e86299",
   "metadata": {},
   "source": [
    "### Read ciphertext binary file and extract the content to be transformed into a binary string"
   ]
  },
  {
   "cell_type": "code",
   "execution_count": 15,
   "id": "10b1d2bd",
   "metadata": {},
   "outputs": [],
   "source": [
    "ciphertext = Bob_QPP.binary_to_ciphertext()"
   ]
  },
  {
   "cell_type": "markdown",
   "id": "37d02b9e",
   "metadata": {},
   "source": [
    "### Decrypt the ciphertext"
   ]
  },
  {
   "cell_type": "code",
   "execution_count": 16,
   "id": "2777ae74",
   "metadata": {},
   "outputs": [
    {
     "name": "stdout",
     "output_type": "stream",
     "text": [
      "\n",
      "decrypt - Length of cipher text in bits retrieved from param dictionary: 102064\n",
      "\n",
      "decrypt - First 192 bits in ciphertext string\n",
      "101001110010010111010111000000010110101000001111011111110010011011010000100010110010000111000111100001110111000110000111101111101010110001100011101010000101111010000000110010111010000001011101\n",
      "\n",
      "permutation pad - Permutation number: 0, matrix: \n"
     ]
    },
    {
     "data": {
      "text/latex": [
       "$$\n",
       "\n",
       "\\begin{bmatrix}\n",
       "0 & 0 & 0 & 0 & \\cdots & 0 & 0 & 0  \\\\\n",
       " 0 & 0 & 0 & 0 & \\cdots & 0 & 0 & 0  \\\\\n",
       " 0 & 0 & 0 & 0 & \\cdots & 0 & 0 & 0  \\\\\n",
       " 0 & 0 & 0 & 0 & \\cdots & 0 & 0 & 0  \\\\\n",
       " \\vdots & \\vdots & \\vdots & \\vdots & \\ddots & \\vdots & \\vdots & \\vdots \\\\\n",
       " 0 & 0 & 0 & 0 & \\cdots & 0 & 0 & 0  \\\\\n",
       " 0 & 0 & 0 & 0 & \\cdots & 0 & 0 & 0  \\\\\n",
       " 0 & 0 & 0 & 0 & \\cdots & 0 & 0 & 0  \\\\\n",
       " \\end{bmatrix}\n",
       "$$"
      ],
      "text/plain": [
       "<IPython.core.display.Latex object>"
      ]
     },
     "metadata": {},
     "output_type": "display_data"
    },
    {
     "name": "stdout",
     "output_type": "stream",
     "text": [
      "\n",
      "permutation pad - Permutation number: 0, Depth of quantum circuit: 60613\n",
      "\n",
      "permutation_pad - permutation number: 0, dictionary:\n",
      "{0: '11000001', 1: '10000110', 2: '01000010', 3: '01100110', 4: '11100100', 5: '00111101', 6: '00010101', 7: '10010100', 8: '01011010', 9: '00000010', 10: '00101000', 11: '01100100', 12: '11001100', 13: '10001101', 14: '10100001', 15: '11101010', 16: '10001100', 17: '11010100', 18: '10110000', 19: '01011110', 20: '01110100', 21: '11000011', 22: '01000011', 23: '00001111', 24: '00010010', 25: '10111010', 26: '00001000', 27: '10000010', 28: '10100010', 29: '10000100', 30: '00001001', 31: '00010011', 32: '10101100', 33: '10101101', 34: '10011100', 35: '01001011', 36: '11011111', 37: '00001101', 38: '00111110', 39: '01010011', 40: '10011110', 41: '01111001', 42: '01001100', 43: '11111110', 44: '11111011', 45: '01011100', 46: '00011110', 47: '10101000', 48: '00110100', 49: '00001011', 50: '11110100', 51: '00110101', 52: '01000101', 53: '11010000', 54: '11101101', 55: '00101001', 56: '10011011', 57: '00100010', 58: '00100101', 59: '10001001', 60: '11000100', 61: '10101110', 62: '11000101', 63: '11111001', 64: '01110000', 65: '10001111', 66: '00010001', 67: '01100000', 68: '01011101', 69: '11011101', 70: '00110000', 71: '10001010', 72: '00100111', 73: '01011000', 74: '11000000', 75: '11001101', 76: '00100110', 77: '10011001', 78: '01010001', 79: '10010110', 80: '01000000', 81: '00000110', 82: '10110010', 83: '00001110', 84: '11111010', 85: '10000001', 86: '11101001', 87: '00011001', 88: '01000111', 89: '00010100', 90: '00111001', 91: '00101110', 92: '11001111', 93: '10011000', 94: '11111101', 95: '00110110', 96: '10010010', 97: '10100011', 98: '10011111', 99: '00110001', 100: '00100001', 101: '01001111', 102: '11100000', 103: '00111010', 104: '11011100', 105: '10100000', 106: '01011011', 107: '00101101', 108: '01010010', 109: '11111000', 110: '01100011', 111: '01110111', 112: '01110101', 113: '01101101', 114: '00011011', 115: '00101010', 116: '11110011', 117: '01010100', 118: '10110011', 119: '11010010', 120: '10111100', 121: '01101011', 122: '10111101', 123: '11001110', 124: '00101111', 125: '11100101', 126: '10100111', 127: '01000100', 128: '01001000', 129: '10100110', 130: '00111111', 131: '11010101', 132: '01001101', 133: '00011000', 134: '00010110', 135: '00110111', 136: '11110110', 137: '00010111', 138: '11010011', 139: '10001011', 140: '00011111', 141: '11110000', 142: '01110011', 143: '10000011', 144: '00000101', 145: '11011110', 146: '01111110', 147: '01101001', 148: '10100100', 149: '11000110', 150: '01111101', 151: '01000001', 152: '10111001', 153: '11010110', 154: '01001010', 155: '01000110', 156: '11100111', 157: '00101100', 158: '11100011', 159: '11001001', 160: '11101110', 161: '11101111', 162: '10111000', 163: '10110001', 164: '00000000', 165: '10000000', 166: '11011001', 167: '00001100', 168: '11001011', 169: '10101010', 170: '10011010', 171: '10000111', 172: '10101001', 173: '00000111', 174: '11110111', 175: '01111010', 176: '01101111', 177: '00111100', 178: '11110101', 179: '01001110', 180: '00001010', 181: '11001000', 182: '10110110', 183: '10010001', 184: '01010101', 185: '10110100', 186: '01101010', 187: '10001110', 188: '01111000', 189: '01011111', 190: '01101110', 191: '11111100', 192: '01111111', 193: '00000011', 194: '10010111', 195: '01100010', 196: '11100001', 197: '10011101', 198: '01110001', 199: '01010000', 200: '10101111', 201: '00101011', 202: '10010101', 203: '11100110', 204: '01101000', 205: '00111011', 206: '00011010', 207: '01010111', 208: '00011101', 209: '11101000', 210: '10110101', 211: '11110010', 212: '00010000', 213: '01110110', 214: '01100101', 215: '00100100', 216: '00000100', 217: '01100111', 218: '00111000', 219: '10001000', 220: '01111011', 221: '10111110', 222: '01010110', 223: '11000111', 224: '01110010', 225: '00000001', 226: '11100010', 227: '10100101', 228: '10111011', 229: '11000010', 230: '01001001', 231: '00011100', 232: '11011010', 233: '11011000', 234: '10110111', 235: '10010011', 236: '00100000', 237: '11101100', 238: '01011001', 239: '11011011', 240: '11111111', 241: '00100011', 242: '11010111', 243: '11101011', 244: '01111100', 245: '10000101', 246: '10111111', 247: '01100001', 248: '00110011', 249: '10010000', 250: '00110010', 251: '11010001', 252: '01101100', 253: '11001010', 254: '10101011', 255: '11110001'}\n",
      "permutation pad - Elapsed time: 0:14:13.934872\n",
      "\n",
      "permutation pad - Permutation number: 1, matrix: \n"
     ]
    },
    {
     "data": {
      "text/latex": [
       "$$\n",
       "\n",
       "\\begin{bmatrix}\n",
       "0 & 0 & 0 & 0 & \\cdots & 0 & 0 & 0  \\\\\n",
       " 0 & 0 & 0 & 0 & \\cdots & 0 & 0 & 0  \\\\\n",
       " 0 & 0 & 0 & 0 & \\cdots & 0 & 0 & 0  \\\\\n",
       " 0 & 0 & 0 & 0 & \\cdots & 0 & 0 & 0  \\\\\n",
       " \\vdots & \\vdots & \\vdots & \\vdots & \\ddots & \\vdots & \\vdots & \\vdots \\\\\n",
       " 0 & 0 & 0 & 0 & \\cdots & 0 & 0 & 0  \\\\\n",
       " 0 & 0 & 0 & 0 & \\cdots & 0 & 0 & 0  \\\\\n",
       " 0 & 0 & 0 & 0 & \\cdots & 0 & 0 & 0  \\\\\n",
       " \\end{bmatrix}\n",
       "$$"
      ],
      "text/plain": [
       "<IPython.core.display.Latex object>"
      ]
     },
     "metadata": {},
     "output_type": "display_data"
    },
    {
     "name": "stdout",
     "output_type": "stream",
     "text": [
      "\n",
      "permutation pad - Permutation number: 1, Depth of quantum circuit: 60613\n",
      "\n",
      "permutation_pad - permutation number: 1, dictionary:\n",
      "{0: '00011101', 1: '01010100', 2: '10010111', 3: '10100010', 4: '00100100', 5: '01001100', 6: '11011000', 7: '01010110', 8: '10100110', 9: '01100010', 10: '11110100', 11: '10010000', 12: '11000101', 13: '01100110', 14: '00110001', 15: '11010000', 16: '10001001', 17: '10011000', 18: '10101011', 19: '00101101', 20: '11101001', 21: '11000110', 22: '10111010', 23: '11000011', 24: '10101110', 25: '01000110', 26: '00101100', 27: '11000100', 28: '11000001', 29: '10001000', 30: '01101001', 31: '01001111', 32: '01111011', 33: '10110100', 34: '00101000', 35: '01110110', 36: '00010110', 37: '10010100', 38: '01001101', 39: '10100101', 40: '01101100', 41: '11101110', 42: '00100011', 43: '00011001', 44: '00010101', 45: '00000010', 46: '01100111', 47: '01000011', 48: '01001011', 49: '01111000', 50: '10000010', 51: '00001101', 52: '01001001', 53: '01011011', 54: '11111111', 55: '00000000', 56: '00111001', 57: '01010111', 58: '10100011', 59: '10001100', 60: '10010001', 61: '00001100', 62: '11011110', 63: '11100100', 64: '01100100', 65: '11111110', 66: '01011100', 67: '10001111', 68: '00000101', 69: '11001100', 70: '11100010', 71: '11110000', 72: '00101011', 73: '00110000', 74: '10001010', 75: '11101011', 76: '00100110', 77: '00010011', 78: '01110101', 79: '10101000', 80: '01111010', 81: '01000101', 82: '11001111', 83: '01110111', 84: '10000111', 85: '01100000', 86: '00011000', 87: '10000000', 88: '10011110', 89: '00010001', 90: '01101101', 91: '10111111', 92: '10101100', 93: '10001101', 94: '01010001', 95: '01100011', 96: '00100111', 97: '01000000', 98: '01110100', 99: '01000010', 100: '10101101', 101: '00111101', 102: '10111011', 103: '00101110', 104: '00001111', 105: '00001000', 106: '11101000', 107: '00100001', 108: '01100101', 109: '00100000', 110: '01011101', 111: '00111010', 112: '10101111', 113: '11010010', 114: '10000101', 115: '00001001', 116: '11010011', 117: '11001110', 118: '11011100', 119: '10110011', 120: '00101010', 121: '10010010', 122: '01011010', 123: '01111111', 124: '00111011', 125: '01011111', 126: '11010101', 127: '10000110', 128: '10100001', 129: '10011011', 130: '01111110', 131: '11100011', 132: '10100111', 133: '11100101', 134: '01010010', 135: '11011010', 136: '10001110', 137: '11011111', 138: '01101110', 139: '00011110', 140: '11111000', 141: '10010110', 142: '10000100', 143: '10101010', 144: '11101101', 145: '01010000', 146: '10110001', 147: '00100010', 148: '10100100', 149: '11111011', 150: '00010100', 151: '11001000', 152: '00100101', 153: '10000011', 154: '11011001', 155: '11110010', 156: '01110001', 157: '01110000', 158: '11101111', 159: '00110111', 160: '00110110', 161: '01100001', 162: '01101000', 163: '01010101', 164: '01110011', 165: '01111101', 166: '00111110', 167: '10010101', 168: '00011010', 169: '00011111', 170: '10001011', 171: '01111001', 172: '11010100', 173: '00001010', 174: '00111100', 175: '00111111', 176: '00011100', 177: '00011011', 178: '11000000', 179: '11101100', 180: '00000111', 181: '01001110', 182: '11100111', 183: '00110010', 184: '01110010', 185: '01101111', 186: '10100000', 187: '10010011', 188: '00010111', 189: '10110110', 190: '11110111', 191: '00001110', 192: '00110100', 193: '11101010', 194: '01101010', 195: '00110011', 196: '01000100', 197: '11110101', 198: '11111010', 199: '10110010', 200: '01001000', 201: '00001011', 202: '11110011', 203: '10110101', 204: '10000001', 205: '11010110', 206: '11100110', 207: '11000010', 208: '11100001', 209: '01101011', 210: '00000011', 211: '10011001', 212: '11110110', 213: '00101001', 214: '01011001', 215: '01000111', 216: '10111100', 217: '01010011', 218: '11010001', 219: '10111001', 220: '11001010', 221: '11011011', 222: '01000001', 223: '00010000', 224: '10111101', 225: '11011101', 226: '00110101', 227: '11000111', 228: '00111000', 229: '11111101', 230: '01011110', 231: '00000100', 232: '10101001', 233: '11010111', 234: '10011100', 235: '10111110', 236: '11111001', 237: '11001101', 238: '10011111', 239: '10011010', 240: '00101111', 241: '00000001', 242: '11001011', 243: '11111100', 244: '10110111', 245: '11001001', 246: '00010010', 247: '10110000', 248: '01001010', 249: '01111100', 250: '10111000', 251: '10011101', 252: '11100000', 253: '11110001', 254: '01011000', 255: '00000110'}\n",
      "permutation pad - Elapsed time: 0:28:54.955142\n",
      "\n",
      "permutation pad - Permutation number: 2, matrix: \n"
     ]
    },
    {
     "data": {
      "text/latex": [
       "$$\n",
       "\n",
       "\\begin{bmatrix}\n",
       "1 & 0 & 0 & 0 & \\cdots & 0 & 0 & 0  \\\\\n",
       " 0 & 0 & 0 & 0 & \\cdots & 0 & 0 & 0  \\\\\n",
       " 0 & 0 & 0 & 0 & \\cdots & 0 & 0 & 0  \\\\\n",
       " 0 & 0 & 0 & 0 & \\cdots & 0 & 0 & 0  \\\\\n",
       " \\vdots & \\vdots & \\vdots & \\vdots & \\ddots & \\vdots & \\vdots & \\vdots \\\\\n",
       " 0 & 0 & 0 & 0 & \\cdots & 0 & 0 & 0  \\\\\n",
       " 0 & 0 & 0 & 0 & \\cdots & 0 & 0 & 0  \\\\\n",
       " 0 & 0 & 0 & 0 & \\cdots & 0 & 0 & 0  \\\\\n",
       " \\end{bmatrix}\n",
       "$$"
      ],
      "text/plain": [
       "<IPython.core.display.Latex object>"
      ]
     },
     "metadata": {},
     "output_type": "display_data"
    },
    {
     "name": "stdout",
     "output_type": "stream",
     "text": [
      "\n",
      "permutation pad - Permutation number: 2, Depth of quantum circuit: 60581\n",
      "\n",
      "permutation_pad - permutation number: 2, dictionary:\n",
      "{0: '00000000', 1: '00000110', 2: '00010010', 3: '01001111', 4: '00100101', 5: '11001000', 6: '01110111', 7: '11111111', 8: '01011000', 9: '01110010', 10: '11010100', 11: '10011101', 12: '00010101', 13: '11000100', 14: '01011001', 15: '10101101', 16: '01100001', 17: '10010000', 18: '11010111', 19: '00010100', 20: '00001001', 21: '00101100', 22: '11001111', 23: '01001101', 24: '01110101', 25: '01111000', 26: '11111010', 27: '01010111', 28: '11110010', 29: '10111111', 30: '00010000', 31: '00100110', 32: '00010110', 33: '01110001', 34: '10001010', 35: '00001100', 36: '10110000', 37: '01010101', 38: '01101110', 39: '11011010', 40: '00101010', 41: '00000010', 42: '11110100', 43: '01100101', 44: '11101010', 45: '11000011', 46: '10000111', 47: '10110010', 48: '11100010', 49: '01100000', 50: '11110110', 51: '10100010', 52: '00000111', 53: '10010011', 54: '10000010', 55: '01100110', 56: '00100011', 57: '01010000', 58: '11101101', 59: '00011101', 60: '00100000', 61: '10011001', 62: '00100100', 63: '10110100', 64: '00101001', 65: '01110110', 66: '00000011', 67: '11010110', 68: '00110011', 69: '01101100', 70: '01001000', 71: '10000110', 72: '01111101', 73: '10001100', 74: '00111111', 75: '00001110', 76: '10011000', 77: '11100100', 78: '10111000', 79: '11111101', 80: '11010000', 81: '01010011', 82: '00010001', 83: '10001000', 84: '10100111', 85: '11010010', 86: '10011111', 87: '01001010', 88: '01011110', 89: '11001011', 90: '11111100', 91: '00110111', 92: '11101000', 93: '10111011', 94: '10101000', 95: '01100100', 96: '10000011', 97: '01001110', 98: '10101110', 99: '10101100', 100: '11000010', 101: '00110000', 102: '10001101', 103: '10100011', 104: '10100110', 105: '00100010', 106: '00101111', 107: '11101100', 108: '00111001', 109: '01010100', 110: '00111110', 111: '01101010', 112: '01111011', 113: '10101011', 114: '01011010', 115: '00001010', 116: '10010111', 117: '11100110', 118: '00111011', 119: '11101001', 120: '00100111', 121: '00101101', 122: '01011111', 123: '11101011', 124: '11100101', 125: '00011100', 126: '10011100', 127: '01000000', 128: '01101001', 129: '01111001', 130: '10101010', 131: '01111110', 132: '01000001', 133: '10111010', 134: '10110111', 135: '10011010', 136: '10000000', 137: '00000101', 138: '10010010', 139: '00011001', 140: '00001011', 141: '10000001', 142: '10111001', 143: '10011110', 144: '01111111', 145: '01011101', 146: '00111101', 147: '00000001', 148: '01110011', 149: '10010100', 150: '11010011', 151: '11000000', 152: '11110101', 153: '11101110', 154: '01010001', 155: '00001000', 156: '01000011', 157: '11000110', 158: '01010110', 159: '11010001', 160: '10000100', 161: '01101111', 162: '00010111', 163: '01001011', 164: '11100001', 165: '10111101', 166: '01011011', 167: '10000101', 168: '01100010', 169: '11101111', 170: '00100001', 171: '11001100', 172: '00011110', 173: '00110010', 174: '11001010', 175: '11001110', 176: '00111010', 177: '00011011', 178: '10010001', 179: '01011100', 180: '10001110', 181: '11111011', 182: '00110100', 183: '11011000', 184: '11011111', 185: '10001011', 186: '01001100', 187: '11011011', 188: '01000111', 189: '11100111', 190: '01000101', 191: '11001101', 192: '01000100', 193: '01000110', 194: '10111110', 195: '10001001', 196: '10110011', 197: '11110000', 198: '10010110', 199: '00101011', 200: '10110110', 201: '00001111', 202: '00011111', 203: '01101101', 204: '11111110', 205: '01110000', 206: '10110101', 207: '01000010', 208: '00011010', 209: '11110111', 210: '01110100', 211: '00110001', 212: '10001111', 213: '10011011', 214: '11010101', 215: '10101111', 216: '01100011', 217: '11110001', 218: '00110101', 219: '11111000', 220: '01111100', 221: '00101000', 222: '11100000', 223: '11011100', 224: '11011101', 225: '10100001', 226: '10110001', 227: '01101000', 228: '00101110', 229: '01111010', 230: '01001001', 231: '11110011', 232: '11011001', 233: '11000001', 234: '00011000', 235: '00111100', 236: '11011110', 237: '00111000', 238: '01100111', 239: '01010010', 240: '10010101', 241: '00110110', 242: '10100101', 243: '11000101', 244: '00010011', 245: '00001101', 246: '00000100', 247: '10100100', 248: '01101011', 249: '11001001', 250: '11100011', 251: '11111001', 252: '10100000', 253: '10111100', 254: '11000111', 255: '10101001'}\n",
      "permutation pad - Elapsed time: 0:42:56.103663\n",
      "permutation pad - Length of Permutation_Pad: 3\n",
      "\n",
      "decrypt - Length of ciphertext: 102064\n",
      "decrypt - Remainder of dividing (Length of cipher chunks) by (Job trigger): 758\n",
      "\n",
      "decrypt - x : 1999,  Permutation_Pad[2], State vector: 00010110, Most frequent: 11001111\n",
      "decrypt - Elapsed time for decryption: 0:00:00.000646\n",
      "decrypt - x : 3999,  Permutation_Pad[2], State vector: 11001111, Most frequent: 01000010\n",
      "decrypt - Elapsed time for decryption: 0:00:00.001117\n",
      "decrypt - x : 5999,  Permutation_Pad[0], State vector: 11011011, Most frequent: 10001000\n",
      "decrypt - Elapsed time for decryption: 0:00:00.001578\n",
      "decrypt - x : 7999,  Permutation_Pad[1], State vector: 00110111, Most frequent: 00000000\n",
      "decrypt - Elapsed time for decryption: 0:00:00.002007\n",
      "decrypt - x : 9999,  Permutation_Pad[0], State vector: 10000010, Most frequent: 00111111\n",
      "decrypt - Elapsed time for decryption: 0:00:00.002419\n",
      "decrypt - x : 11999,  Permutation_Pad[1], State vector: 11010000, Most frequent: 11100001\n",
      "decrypt - Elapsed time for decryption: 0:00:00.002818\n",
      "\n",
      "decrypt - Length of decrypted message in bits: 102064\n",
      "\n",
      "decrypt - Elapsed time for decryption of ciphertext: 0:00:00.026950\n"
     ]
    }
   ],
   "source": [
    "decrypted_message = Bob_QPP.decrypt(ciphertext=ciphertext)"
   ]
  },
  {
   "cell_type": "markdown",
   "id": "dca194bd",
   "metadata": {},
   "source": [
    "### Convert the decrypted message and save it into the decrypted file"
   ]
  },
  {
   "cell_type": "code",
   "execution_count": 17,
   "id": "b51e7855",
   "metadata": {},
   "outputs": [
    {
     "name": "stdout",
     "output_type": "stream",
     "text": [
      "\n",
      "bitstring_to_file - decrypted message in bytes trimmed to true length: 12758\n"
     ]
    }
   ],
   "source": [
    "Bob_QPP.bitstring_to_file(decrypted_message=decrypted_message)"
   ]
  },
  {
   "cell_type": "markdown",
   "id": "7e07caf6-525d-4106-ace1-ca145c7b40c1",
   "metadata": {},
   "source": [
    "## References\n",
    "\n",
    "[1] Kuang, Randy. Quantum Permutation Pad for Quantum Secure Symmetric and Asymmetric Cryptography. Vol. 2, no. 1, Academia Quantum, 2025. https://doi.org/10.20935/AcadQuant7457 \n",
    "\n",
    "[2] Chancé, A. (2024). Quantum Permutation Pad with Qiskit Runtime. In: Femmam, S., Lorenz, P. (eds) Recent Advances in Communication Networks and Embedded Systems. ICCNT 2022. Lecture Notes on Data Engineering and Communications Technologies, vol 205. Springer, Cham. https://doi.org/10.1007/978-3-031-59619-3_12 \n",
    "\n",
    "[3] R. Kuang and N. Bettenburg, 'Shannon perfect secrecy in a discrete Hilbert space', in Proc. IEEE Int. Conf. Quantum Comput. Eng. (QCE), Oct. 2020, pp. 249-255, doi: 10.1109/QCE49297.2020.00039\n",
    "\n",
    "[4] Kuang, R., Perepechaenko, M. Quantum encryption with quantum permutation pad in IBMQ systems. EPJ Quantum Technol. 9, 26 (2022). https://doi.org/10.1140/epjqt/s40507-022-00145-y\n",
    "\n",
    "[5] Qiskit Runtime overview, IBM Quantum, https://cloud.ibm.com/docs/quantum-computing?topic=quantum-computing-overview, https://cloud.ibm.com/docs/quantum-computing?topic=quantum-computing-overview\n",
    "\n",
    "[6] QiskitRuntimeService, https://docs.quantum.ibm.com/api/qiskit-ibm-runtime/qiskit_ibm_runtime.QiskitRuntimeService#qiskitruntimeservice"
   ]
  },
  {
   "cell_type": "markdown",
   "id": "d5a0c1b1-90e1-463a-9b1e-62ebfe1ab58c",
   "metadata": {},
   "source": [
    "## Print Qiskit version"
   ]
  },
  {
   "cell_type": "code",
   "execution_count": 18,
   "id": "abc4f197-4e90-4484-acb5-14a72c987f51",
   "metadata": {},
   "outputs": [],
   "source": [
    "import qiskit"
   ]
  },
  {
   "cell_type": "code",
   "execution_count": 19,
   "id": "5f5e2798-8584-485c-904e-78d0866cbd5d",
   "metadata": {},
   "outputs": [
    {
     "name": "stdout",
     "output_type": "stream",
     "text": [
      "1.3.1\n"
     ]
    }
   ],
   "source": [
    "print(qiskit.__version__)"
   ]
  }
 ],
 "metadata": {
  "kernelspec": {
   "display_name": "Python 3 (ipykernel)",
   "language": "python",
   "name": "python3"
  },
  "language_info": {
   "codemirror_mode": {
    "name": "ipython",
    "version": 3
   },
   "file_extension": ".py",
   "mimetype": "text/x-python",
   "name": "python",
   "nbconvert_exporter": "python",
   "pygments_lexer": "ipython3",
   "version": "3.12.8"
  },
  "widgets": {
   "application/vnd.jupyter.widget-state+json": {
    "state": {
     "01231487ec414b24bd761f6dd76fc016": {
      "model_module": "@jupyter-widgets/base",
      "model_module_version": "1.2.0",
      "model_name": "LayoutModel",
      "state": {
       "width": "190px"
      }
     },
     "15a8688e002d43adbccd012eefd05e51": {
      "model_module": "@jupyter-widgets/controls",
      "model_module_version": "1.5.0",
      "model_name": "HTMLModel",
      "state": {
       "layout": "IPY_MODEL_eb974c9225c14c1d901d2381b81c0952",
       "style": "IPY_MODEL_b6762439874e41c38b2ac1b21790f0db",
       "value": "<h5>Message</h5>"
      }
     },
     "1c7de92203e740098ca0f00e488e47e9": {
      "model_module": "@jupyter-widgets/controls",
      "model_module_version": "1.5.0",
      "model_name": "HBoxModel",
      "state": {
       "children": [
        "IPY_MODEL_cb71e659e00a40cfba214efd500083fb",
        "IPY_MODEL_799b064975484c5690a72ede0fa8855e",
        "IPY_MODEL_84f13d6437654954a9e7751d95f0d276",
        "IPY_MODEL_a960fc42b4534aa3a35f635e30a1e288",
        "IPY_MODEL_15a8688e002d43adbccd012eefd05e51"
       ],
       "layout": "IPY_MODEL_882736f26bea4b7d9836e2ea7ececf83"
      }
     },
     "42b7643650d24814affdaa618a02aeb0": {
      "model_module": "@jupyter-widgets/controls",
      "model_module_version": "1.5.0",
      "model_name": "ButtonModel",
      "state": {
       "button_style": "primary",
       "description": "Clear",
       "layout": "IPY_MODEL_fbfa86e960e04a5f95619e18a23739dc",
       "style": "IPY_MODEL_746716bf92ac4c418d498bb56ca229be"
      }
     },
     "485bd1112c364e63b7a55bd8c386eb0c": {
      "model_module": "@jupyter-widgets/controls",
      "model_module_version": "1.5.0",
      "model_name": "GridBoxModel",
      "state": {
       "children": [
        "IPY_MODEL_42b7643650d24814affdaa618a02aeb0"
       ],
       "layout": "IPY_MODEL_de58e34a7edc401e87342f04d1d3065f"
      }
     },
     "746716bf92ac4c418d498bb56ca229be": {
      "model_module": "@jupyter-widgets/controls",
      "model_module_version": "1.5.0",
      "model_name": "ButtonStyleModel",
      "state": {}
     },
     "74b6f2dd988347b7a07221fb5353df09": {
      "model_module": "@jupyter-widgets/controls",
      "model_module_version": "1.5.0",
      "model_name": "DescriptionStyleModel",
      "state": {
       "description_width": ""
      }
     },
     "790a1a267c374532a2360b67ba400279": {
      "model_module": "@jupyter-widgets/base",
      "model_module_version": "1.2.0",
      "model_name": "LayoutModel",
      "state": {
       "width": "95px"
      }
     },
     "799b064975484c5690a72ede0fa8855e": {
      "model_module": "@jupyter-widgets/controls",
      "model_module_version": "1.5.0",
      "model_name": "HTMLModel",
      "state": {
       "layout": "IPY_MODEL_ee251e5ed3934cf9a093286fee4af98b",
       "style": "IPY_MODEL_74b6f2dd988347b7a07221fb5353df09",
       "value": "<h5>Backend</h5>"
      }
     },
     "84f13d6437654954a9e7751d95f0d276": {
      "model_module": "@jupyter-widgets/controls",
      "model_module_version": "1.5.0",
      "model_name": "HTMLModel",
      "state": {
       "layout": "IPY_MODEL_790a1a267c374532a2360b67ba400279",
       "style": "IPY_MODEL_cc7fbd6e616b48ba8670a24863e2d88f",
       "value": "<h5>Status</h5>"
      }
     },
     "882736f26bea4b7d9836e2ea7ececf83": {
      "model_module": "@jupyter-widgets/base",
      "model_module_version": "1.2.0",
      "model_name": "LayoutModel",
      "state": {
       "margin": "0px 0px 0px 37px",
       "width": "600px"
      }
     },
     "a2d56da859ad4bf4a827041ae905da73": {
      "model_module": "@jupyter-widgets/controls",
      "model_module_version": "1.5.0",
      "model_name": "DescriptionStyleModel",
      "state": {
       "description_width": ""
      }
     },
     "a960fc42b4534aa3a35f635e30a1e288": {
      "model_module": "@jupyter-widgets/controls",
      "model_module_version": "1.5.0",
      "model_name": "HTMLModel",
      "state": {
       "layout": "IPY_MODEL_f59d35bcdf46447997dd4fd8809c0d4d",
       "style": "IPY_MODEL_e237896267074e489426d2aedb7f348b",
       "value": "<h5>Queue</h5>"
      }
     },
     "b6762439874e41c38b2ac1b21790f0db": {
      "model_module": "@jupyter-widgets/controls",
      "model_module_version": "1.5.0",
      "model_name": "DescriptionStyleModel",
      "state": {
       "description_width": ""
      }
     },
     "b7345e1a00e3440b87008eb08ea836c7": {
      "model_module": "@jupyter-widgets/controls",
      "model_module_version": "1.5.0",
      "model_name": "DescriptionStyleModel",
      "state": {
       "description_width": ""
      }
     },
     "cb71e659e00a40cfba214efd500083fb": {
      "model_module": "@jupyter-widgets/controls",
      "model_module_version": "1.5.0",
      "model_name": "HTMLModel",
      "state": {
       "layout": "IPY_MODEL_01231487ec414b24bd761f6dd76fc016",
       "style": "IPY_MODEL_a2d56da859ad4bf4a827041ae905da73",
       "value": "<h5>Job ID</h5>"
      }
     },
     "cc7fbd6e616b48ba8670a24863e2d88f": {
      "model_module": "@jupyter-widgets/controls",
      "model_module_version": "1.5.0",
      "model_name": "DescriptionStyleModel",
      "state": {
       "description_width": ""
      }
     },
     "de58e34a7edc401e87342f04d1d3065f": {
      "model_module": "@jupyter-widgets/base",
      "model_module_version": "1.2.0",
      "model_name": "LayoutModel",
      "state": {
       "grid_template_areas": "\n                                       \". . . . right \"\n                                        ",
       "grid_template_columns": "20% 20% 20% 20% 20%",
       "width": "100%"
      }
     },
     "e237896267074e489426d2aedb7f348b": {
      "model_module": "@jupyter-widgets/controls",
      "model_module_version": "1.5.0",
      "model_name": "DescriptionStyleModel",
      "state": {
       "description_width": ""
      }
     },
     "e56746ba29da4cb98f6a534584c6d556": {
      "model_module": "@jupyter-widgets/controls",
      "model_module_version": "1.5.0",
      "model_name": "HTMLModel",
      "state": {
       "layout": "IPY_MODEL_fe8260cf883a46beb0a8a98b5504fdd9",
       "style": "IPY_MODEL_b7345e1a00e3440b87008eb08ea836c7",
       "value": "<p style='font-family: IBM Plex Sans, Arial, Helvetica, sans-serif; font-size: 20px; font-weight: medium;'>Circuit Properties</p>"
      }
     },
     "eb974c9225c14c1d901d2381b81c0952": {
      "model_module": "@jupyter-widgets/base",
      "model_module_version": "1.2.0",
      "model_name": "LayoutModel",
      "state": {}
     },
     "ee251e5ed3934cf9a093286fee4af98b": {
      "model_module": "@jupyter-widgets/base",
      "model_module_version": "1.2.0",
      "model_name": "LayoutModel",
      "state": {
       "width": "145px"
      }
     },
     "f59d35bcdf46447997dd4fd8809c0d4d": {
      "model_module": "@jupyter-widgets/base",
      "model_module_version": "1.2.0",
      "model_name": "LayoutModel",
      "state": {
       "width": "70px"
      }
     },
     "fbfa86e960e04a5f95619e18a23739dc": {
      "model_module": "@jupyter-widgets/base",
      "model_module_version": "1.2.0",
      "model_name": "LayoutModel",
      "state": {
       "grid_area": "right",
       "padding": "0px 0px 0px 0px",
       "width": "70px"
      }
     },
     "fe8260cf883a46beb0a8a98b5504fdd9": {
      "model_module": "@jupyter-widgets/base",
      "model_module_version": "1.2.0",
      "model_name": "LayoutModel",
      "state": {
       "margin": "0px 0px 10px 0px"
      }
     }
    },
    "version_major": 2,
    "version_minor": 0
   }
  }
 },
 "nbformat": 4,
 "nbformat_minor": 5
}
