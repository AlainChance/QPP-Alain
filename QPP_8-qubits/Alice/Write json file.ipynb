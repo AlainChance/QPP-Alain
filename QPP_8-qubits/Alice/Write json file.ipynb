{
 "cells": [
  {
   "cell_type": "markdown",
   "id": "73258f5a-31dd-4500-8b11-257d5bd8d909",
   "metadata": {},
   "source": [
    "# Quantum Permutation Pad with Qiskit Runtime by Alain Chancé\n",
    "\n",
    "## MIT License\n",
    "\n",
    "Copyright (c) 2022 Alain Chancé\n",
    "\n",
    "Permission is hereby granted, free of charge, to any person obtaining a copy\n",
    "of this software and associated documentation files (the \"Software\"), to deal\n",
    "in the Software without restriction, including without limitation the rights\n",
    "to use, copy, modify, merge, publish, distribute, sublicense, and/or sell\n",
    "copies of the Software, and to permit persons to whom the Software is\n",
    "furnished to do so, subject to the following conditions:\n",
    "\n",
    "The above copyright notice and this permission notice shall be included in all\n",
    "copies or substantial portions of the Software.\n",
    "\n",
    "THE SOFTWARE IS PROVIDED \"AS IS\", WITHOUT WARRANTY OF ANY KIND, EXPRESS OR\n",
    "IMPLIED, INCLUDING BUT NOT LIMITED TO THE WARRANTIES OF MERCHANTABILITY,\n",
    "FITNESS FOR A PARTICULAR PURPOSE AND NONINFRINGEMENT. IN NO EVENT SHALL THE\n",
    "AUTHORS OR COPYRIGHT HOLDERS BE LIABLE FOR ANY CLAIM, DAMAGES OR OTHER\n",
    "LIABILITY, WHETHER IN AN ACTION OF CONTRACT, TORT OR OTHERWISE, ARISING FROM,\n",
    "OUT OF OR IN CONNECTION WITH THE SOFTWARE OR THE USE OR OTHER DEALINGS IN THE\n",
    "SOFTWARE."
   ]
  },
  {
   "cell_type": "code",
   "execution_count": 1,
   "id": "cf3c4ebc",
   "metadata": {},
   "outputs": [],
   "source": [
    "import json"
   ]
  },
  {
   "cell_type": "markdown",
   "id": "ea058d87-0ef9-4ecd-92e3-f783f6f75d1f",
   "metadata": {},
   "source": [
    "### Table 1\n",
    "Table 1 The table tabulates the equivalent Shannon information entropy per n-qubit permutation space for n from 2 to 5. We also illustrate the number of gates to achieve the equivalent classical 256 bits of entropy and classical key bit length. The last row displays the number of qubits required per circuit to achieve the quantum security, counting qubits corresponding to the message and the pre-shared key.\n",
    "\n",
    "$$\\begin{array}{|c|c|c|c|c|}\n",
    "\\hline & \\text{2-qubits} & \\text{3-qubits} & \\text{4-qubits} & \\text{5-qubits} \\\\\n",
    "\\hline \\text{Dimension of Permutation Space} & 24 & 40,320 & 2.09 \\times 10^{13} & 2.63 \\times 10^{35} \\\\\n",
    "\\hline \\text{Entropy per Permutation Gate (bit)} & 4.58 & 15.30 & 44.25 & 117.7 \\\\\n",
    "\\hline \\text{Number of Permutation Gates Required} & 56 & 17 & 6 & 3 \\\\\n",
    "\\hline \\text{Classical key length (bit)} & 448 & 408 & 384 & 480 \\\\\n",
    "\\hline \\text{Total Qubits Required} & 224 & 102 & 48 & 30 \\\\\n",
    "\\hline\n",
    "\\end{array}$$\n",
    "\n",
    "Source: https://epjquantumtechnology.springeropen.com/articles/10.1140/epjqt/s40507-022-00145-y/tables/1\n",
    "\n",
    "From: Quantum encryption with quantum permutation pad in IBMQ systems. https://epjquantumtechnology.springeropen.com/articles/10.1140/epjqt/s40507-022-00145-y"
   ]
  },
  {
   "cell_type": "markdown",
   "id": "1d7a579b",
   "metadata": {},
   "source": [
    "### 2-qubits"
   ]
  },
  {
   "cell_type": "code",
   "execution_count": null,
   "id": "3a623186",
   "metadata": {},
   "outputs": [],
   "source": [
    "json_param = {\n",
    "    \"num_of_bits\": 448,\n",
    "    \"num_of_qubits\": 2,\n",
    "    \"num_of_perm_in_pad\": 56,\n",
    "    \"pad_selection_key_size\": 6,\n",
    "    \"opt_level\": 1,\n",
    "    \"resilience_level\": 1,\n",
    "    \"plaintext_file\": \"Christmas_tree.png\",\n",
    "    \n",
    "    \"token_file\": \"Token_Alain.txt\",\n",
    "    \"trace\": 2,\n",
    "    \"job_trigger\": 100,\n",
    "    \"print_trigger\": 100,\n",
    "    \"draw_circuit\": \"True\",\n",
    "    \"do_sampler\": \"False\",\n",
    "    \"version\": \"V0\",\n",
    "    \"len_message\": 8,\n",
    "    \"len_ciphertext\": 126\n",
    "    }\n",
    "    \n",
    "# Serializing json\n",
    "json_object = json.dumps(json_param, indent=4)\n",
    " \n",
    "# Write to QPP_param.json\n",
    "with open('QPP_param.json', 'w') as json_file:\n",
    "    json_file.write(json_object)"
   ]
  },
  {
   "cell_type": "markdown",
   "id": "b5f74490",
   "metadata": {},
   "source": [
    "### 4-qubits"
   ]
  },
  {
   "cell_type": "code",
   "execution_count": null,
   "id": "5e4f945e",
   "metadata": {},
   "outputs": [],
   "source": [
    "json_param = {\n",
    "    \"num_of_bits\": 384,\n",
    "    \"num_of_qubits\": 4,\n",
    "    \"num_of_perm_in_pad\": 6,\n",
    "    \"pad_selection_key_size\": 6,\n",
    "    \"opt_level\": 2,\n",
    "    \"resilience_level\": 1,\n",
    "    \"plaintext_file\": \"Hello.txt\",\n",
    "    \"token_file\": \"Token_Alain.txt\",\n",
    "    \"trace\": 1,\n",
    "    \"job_trigger\": 10000,\n",
    "    \"print_trigger\": 10000,\n",
    "    \"draw_circuit\": \"True\",\n",
    "    \"do_sampler\": \"True\",\n",
    "    \"len_message\": 0,\n",
    "    \"len_ciphertext\": 0\n",
    "}\n",
    "\n",
    "# Serializing json\n",
    "json_object = json.dumps(json_param, indent=4)\n",
    " \n",
    "# Write to QPP_param.json\n",
    "with open('QPP_param.json', 'w') as json_file:\n",
    "    json_file.write(json_object)"
   ]
  },
  {
   "cell_type": "markdown",
   "id": "4d2b3f02",
   "metadata": {},
   "source": [
    "### 5-qubits"
   ]
  },
  {
   "cell_type": "code",
   "execution_count": null,
   "id": "6950d5b2",
   "metadata": {},
   "outputs": [],
   "source": [
    "json_param = {\n",
    "    \"num_of_bits\": 480,\n",
    "    \"num_of_qubits\": 5,\n",
    "    \"num_of_perm_in_pad\": 3,\n",
    "    \"pad_selection_key_size\": 6,\n",
    "    \"opt_level\": 2,\n",
    "    \"resilience_level\": 1,\n",
    "    \"plaintext_file\": \"Hello.txt\",\n",
    "    \"token_file\": \"Token_Alain.txt\",\n",
    "    \"trace\": 2,\n",
    "    \"job_trigger\": 10000,\n",
    "    \"print_trigger\": 10000,\n",
    "    \"draw_circuit\": \"True\",\n",
    "    \"do_sampler\": \"True\",\n",
    "    \"len_message\": 8,\n",
    "    \"len_ciphertext\": 155\n",
    "    }\n",
    "# Serializing json\n",
    "json_object = json.dumps(json_param, indent=4)\n",
    " \n",
    "# Write to QPP_param.json\n",
    "with open('QPP_param.json', 'w') as json_file:\n",
    "    json_file.write(json_object)"
   ]
  },
  {
   "cell_type": "markdown",
   "id": "0f7d51d4-fd1a-4a09-87d3-1580d8cf9344",
   "metadata": {},
   "source": [
    "### 6 - qubits"
   ]
  },
  {
   "cell_type": "code",
   "execution_count": null,
   "id": "c796c3e1-afff-4143-9a96-484600de66a6",
   "metadata": {},
   "outputs": [],
   "source": [
    "num_of_qubits = 6\n",
    "num_of_perm_in_pad = 3\n",
    "\n",
    "n = 2**num_of_qubits\n",
    "\n",
    "num_of_bits = (n-1) * num_of_qubits * num_of_perm_in_pad * 2\n",
    "print(\"num_of_bits: \", num_of_bits)\n",
    "\n",
    "bits_in_block = num_of_bits / num_of_perm_in_pad\n",
    "print(\"bits_in_block: \", bits_in_block)\n",
    "\n",
    "len_key_chunks = int(bits_in_block/num_of_qubits)\n",
    "print(\"len_key_chunks: \", len_key_chunks)"
   ]
  },
  {
   "cell_type": "code",
   "execution_count": null,
   "id": "66653795-ee3d-4299-af54-497ffcd53ee0",
   "metadata": {},
   "outputs": [],
   "source": [
    "json_param = {\n",
    "    \"num_of_bits\": 2268,\n",
    "    \"num_of_qubits\": 6,\n",
    "    \"num_of_perm_in_pad\": 3,\n",
    "    \"pad_selection_key_size\": 6,\n",
    "    \"opt_level\": 2,\n",
    "    \"resilience_level\": 1,\n",
    "    \"plaintext_file\": \"Christmas_tree.png\",\n",
    "    \"token_file\": \"Token_Alain.txt\",\n",
    "    \"trace\": 1,\n",
    "    \"job_trigger\": 10000,\n",
    "    \"print_trigger\": 10000,\n",
    "    \"draw_circuit\": \"False\",\n",
    "    \"do_sampler\": \"True\",\n",
    "    \"version\": \"V0\",\n",
    "    \"len_message\": 12758,\n",
    "    \"len_ciphertext\": 102064\n",
    "    }\n",
    "# Serializing json\n",
    "json_object = json.dumps(json_param, indent=4)\n",
    " \n",
    "# Write to QPP_param.json\n",
    "with open('QPP_param_6-qubits_V0_Christmas_tree.json', 'w') as json_file:\n",
    "    json_file.write(json_object)"
   ]
  },
  {
   "cell_type": "markdown",
   "id": "e05c93c9-29cc-43da-ab69-f83799107c1d",
   "metadata": {},
   "source": [
    "### 8 - qubits"
   ]
  },
  {
   "cell_type": "code",
   "execution_count": 2,
   "id": "9cc127cb-3117-4a83-b29c-0591127c899a",
   "metadata": {},
   "outputs": [
    {
     "name": "stdout",
     "output_type": "stream",
     "text": [
      "num_of_bits:  12240\n",
      "bits_in_block:  4080.0\n",
      "len_key_chunks:  510\n"
     ]
    }
   ],
   "source": [
    "num_of_qubits = 8\n",
    "num_of_perm_in_pad = 3\n",
    "\n",
    "n = 2**num_of_qubits\n",
    "\n",
    "num_of_bits = (n-1) * num_of_qubits * num_of_perm_in_pad * 2\n",
    "print(\"num_of_bits: \", num_of_bits)\n",
    "\n",
    "bits_in_block = num_of_bits / num_of_perm_in_pad\n",
    "print(\"bits_in_block: \", bits_in_block)\n",
    "\n",
    "len_key_chunks = int(bits_in_block/num_of_qubits)\n",
    "print(\"len_key_chunks: \", len_key_chunks)"
   ]
  },
  {
   "cell_type": "code",
   "execution_count": 3,
   "id": "72b82cc2-4918-450b-b9c5-3036687211fe",
   "metadata": {},
   "outputs": [],
   "source": [
    "json_param = {\n",
    "    \"num_of_bits\": 12240,\n",
    "    \"num_of_qubits\": 8,\n",
    "    \"num_of_perm_in_pad\": 3,\n",
    "    \"pad_selection_key_size\": 6,\n",
    "    \"opt_level\": 1,\n",
    "    \"resilience_level\": 1,\n",
    "    \"plaintext_file\": \"Christmas_tree.png\",\n",
    "    \"token_file\": \"Token_Alain.txt\",\n",
    "    \"trace\": 1,\n",
    "    \"job_trigger\": 2000,\n",
    "    \"print_trigger\": 2000,\n",
    "    \"draw_circuit\": \"False\",\n",
    "    \"do_sampler\": \"True\",\n",
    "    \"version\": \"V0\",\n",
    "    \"len_message\": 12758,\n",
    "    \"len_ciphertext\": 102064\n",
    "    }\n",
    "# Serializing json\n",
    "json_object = json.dumps(json_param, indent=4)\n",
    " \n",
    "# Write to QPP_param.json\n",
    "with open('QPP_param_8-qubits_V0_Christmas_tree.json', 'w') as json_file:\n",
    "    json_file.write(json_object)"
   ]
  }
 ],
 "metadata": {
  "kernelspec": {
   "display_name": "Python 3 (ipykernel)",
   "language": "python",
   "name": "python3"
  },
  "language_info": {
   "codemirror_mode": {
    "name": "ipython",
    "version": 3
   },
   "file_extension": ".py",
   "mimetype": "text/x-python",
   "name": "python",
   "nbconvert_exporter": "python",
   "pygments_lexer": "ipython3",
   "version": "3.12.8"
  }
 },
 "nbformat": 4,
 "nbformat_minor": 5
}
